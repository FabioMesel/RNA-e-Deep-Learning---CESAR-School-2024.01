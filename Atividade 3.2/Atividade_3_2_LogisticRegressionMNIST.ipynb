{
 "cells": [
  {
   "cell_type": "markdown",
   "metadata": {
    "id": "Ot79tGiPOl08"
   },
   "source": [
    "# Regressão Softmax com dados do MNIST"
   ]
  },
  {
   "cell_type": "markdown",
   "metadata": {
    "id": "21fecJPyOl0-"
   },
   "source": [
    "## Objetivo"
   ]
  },
  {
   "cell_type": "markdown",
   "metadata": {
    "id": "z8SxRSoLOl1I"
   },
   "source": [
    "O objetivo deste notebook é ilustrar o uso de praticamente a mesma rede desenvolvida para a classificação das flores Íris, porém agora com o problema de classificação de dígitos manuscritos utilizando o dataset MNIST.\n",
    "As principais diferenças são:\n",
    "- tipo do dado, agora imagem com muito atributos: 28 x 28 pixels\n",
    "- número de amostras, muito maior, 60 mil\n",
    "Neste exercício será possível a interpretação do significado dos parâmetros treinados"
   ]
  },
  {
   "cell_type": "markdown",
   "metadata": {
    "id": "RKVT1A6zOl1J"
   },
   "source": [
    "## Importação das bibliotecas"
   ]
  },
  {
   "cell_type": "code",
   "execution_count": null,
   "metadata": {
    "colab": {
     "base_uri": "https://localhost:8080/"
    },
    "id": "EVN-NfMTNk73",
    "outputId": "d980c06d-5e98-47e1-ab99-a7c0a9ac88c4"
   },
   "outputs": [
    {
     "ename": "",
     "evalue": "",
     "output_type": "error",
     "traceback": [
      "\u001b[1;31mFailed to start the Kernel. \n",
      "\u001b[1;31mBad file descriptor (C:\\Users\\runneradmin\\AppData\\Local\\Temp\\tmpkywtyyea\\build\\_deps\\bundled_libzmq-src\\src\\epoll.cpp:73). \n",
      "\u001b[1;31mView Jupyter <a href='command:jupyter.viewOutput'>log</a> for further details."
     ]
    }
   ],
   "source": [
    "! pip install Pillow"
   ]
  },
  {
   "cell_type": "code",
   "execution_count": null,
   "metadata": {
    "ExecuteTime": {
     "end_time": "2017-11-24T15:44:50.097111",
     "start_time": "2017-11-24T15:44:48.915046"
    },
    "id": "2oKVJHVNOl1k"
   },
   "outputs": [],
   "source": [
    "%matplotlib inline\n",
    "import numpy as np\n",
    "import matplotlib.pyplot as plt\n",
    "import pandas as pd\n",
    "\n",
    "import torch\n",
    "from torch.autograd import Variable\n",
    "\n",
    "import torchvision"
   ]
  },
  {
   "cell_type": "markdown",
   "metadata": {
    "id": "BmeldMPaOl1p"
   },
   "source": [
    "## Carregamento dos dados do MNIST"
   ]
  },
  {
   "cell_type": "code",
   "execution_count": null,
   "metadata": {
    "colab": {
     "base_uri": "https://localhost:8080/"
    },
    "id": "vzrUS_xbgvry",
    "outputId": "4da4b641-ff56-49d7-8a85-45e72c12d83b"
   },
   "outputs": [],
   "source": [
    "! git clone https://github.com/vcasadei/MNIST.git"
   ]
  },
  {
   "cell_type": "code",
   "execution_count": null,
   "metadata": {
    "colab": {
     "base_uri": "https://localhost:8080/"
    },
    "id": "f6tbsAECg5JB",
    "outputId": "1cc75a30-8133-4779-f4db-37f9345d8c14"
   },
   "outputs": [],
   "source": [
    "!ls MNIST"
   ]
  },
  {
   "cell_type": "code",
   "execution_count": null,
   "metadata": {
    "ExecuteTime": {
     "end_time": "2017-11-24T15:44:50.638218",
     "start_time": "2017-11-24T15:44:50.098808"
    },
    "colab": {
     "base_uri": "https://localhost:8080/"
    },
    "id": "q0KuxPGVOl1q",
    "outputId": "87c71ceb-1486-42d4-da20-bd241dfac1a1"
   },
   "outputs": [],
   "source": [
    "dataset_dir = 'MNIST/'\n",
    "\n",
    "x_train, y_train = torch.load(dataset_dir + 'processed/training.pt')\n",
    "\n",
    "print(\"Amostras de treinamento:\", x_train.size(0))\n",
    "\n",
    "print(\"\\nDimensões dos dados das imagens:   \", x_train.size())\n",
    "print(\"Valores mínimo e máximo dos pixels:\", torch.min(x_train), torch.max(x_train))\n",
    "print(\"Tipo dos dados das imagens:        \", type(x_train))\n",
    "print(\"Tipo das classes das imagens:      \", type(y_train))"
   ]
  },
  {
   "cell_type": "markdown",
   "metadata": {
    "id": "DccnsPRCOl1y"
   },
   "source": [
    "### Carregamento, normalização e seleção dos dados do MNIST\n",
    "\n",
    "Neste exemplo utilizaremos apenas 1000 amostras de treinamento."
   ]
  },
  {
   "cell_type": "code",
   "execution_count": null,
   "metadata": {
    "ExecuteTime": {
     "end_time": "2017-11-24T15:44:50.895668",
     "start_time": "2017-11-24T15:44:50.640110"
    },
    "colab": {
     "base_uri": "https://localhost:8080/"
    },
    "id": "jRfSlVpnOl10",
    "outputId": "0bb58908-35f4-4390-fbaa-a03658d069e7"
   },
   "outputs": [],
   "source": [
    "x_train = x_train.float()\n",
    "\n",
    "x_train = x_train / 255.\n",
    "\n",
    "if True:\n",
    "    n_samples_train = 1000\n",
    "\n",
    "    x_train = x_train[:n_samples_train]\n",
    "    y_train = y_train[:n_samples_train]\n",
    "\n",
    "print(\"Amostras de treinamento:\", x_train.size(0))\n",
    "\n",
    "print(\"\\nDimensões dos dados das imagens:   \", x_train.size())\n",
    "print(\"Valores mínimo e máximo dos pixels:\", torch.min(x_train), torch.max(x_train))\n",
    "print(\"Tipo dos dados das imagens:        \", type(x_train))\n",
    "print(\"Tipo das classes das imagens:      \", type(y_train))"
   ]
  },
  {
   "cell_type": "markdown",
   "metadata": {
    "id": "0tXHwvS_Ol13"
   },
   "source": [
    "### Visualizando os dados"
   ]
  },
  {
   "cell_type": "code",
   "execution_count": null,
   "metadata": {
    "ExecuteTime": {
     "end_time": "2017-11-24T16:32:19.474568",
     "start_time": "2017-11-24T16:32:19.207270"
    },
    "colab": {
     "base_uri": "https://localhost:8080/",
     "height": 493
    },
    "id": "zV7-8V9UOl15",
    "outputId": "c329dd0c-1988-4c9b-b84b-783e859215c5"
   },
   "outputs": [],
   "source": [
    "n_samples = 24\n",
    "\n",
    "# cria um grid com as imagens\n",
    "grid = torchvision.utils.make_grid(x_train[:n_samples].unsqueeze(dim=1), pad_value=1.0, padding=1)\n",
    "\n",
    "plt.figure(figsize=(15, 10))\n",
    "plt.imshow(grid.numpy().transpose(1, 2, 0))\n",
    "plt.axis('off')"
   ]
  },
  {
   "cell_type": "markdown",
   "metadata": {
    "id": "biPfk_htOl2H"
   },
   "source": [
    "### Visualizando uma imagem com o matplotlib"
   ]
  },
  {
   "cell_type": "code",
   "execution_count": null,
   "metadata": {
    "ExecuteTime": {
     "end_time": "2017-11-24T15:44:51.413232",
     "start_time": "2017-11-24T15:44:51.251376"
    },
    "colab": {
     "base_uri": "https://localhost:8080/",
     "height": 447
    },
    "id": "tAs2Zy28Ol2I",
    "outputId": "8f5bce19-aef4-4686-dd24-00bbeba9f820",
    "scrolled": true
   },
   "outputs": [],
   "source": [
    "image  = x_train[0]\n",
    "target = y_train[0]\n",
    "\n",
    "plt.imshow(image.numpy(), cmap='gray')\n",
    "print('class:', target)"
   ]
  },
  {
   "cell_type": "markdown",
   "metadata": {
    "id": "jWlWHjOvOl2R"
   },
   "source": [
    "## Modelo"
   ]
  },
  {
   "cell_type": "code",
   "execution_count": null,
   "metadata": {
    "ExecuteTime": {
     "end_time": "2017-11-24T15:44:51.419287",
     "start_time": "2017-11-24T15:44:51.415065"
    },
    "id": "8OeUJnUqOl2T"
   },
   "outputs": [],
   "source": [
    "model = torch.nn.Linear(28*28, 10) # 28*28 atributos de entrada e 10 neurônios na sáida"
   ]
  },
  {
   "cell_type": "markdown",
   "metadata": {
    "id": "COKUqRSGOl2d"
   },
   "source": [
    "### Testando um predict com poucas amostras"
   ]
  },
  {
   "cell_type": "code",
   "execution_count": null,
   "metadata": {
    "colab": {
     "base_uri": "https://localhost:8080/"
    },
    "id": "Rxf7FUZOOl2g",
    "outputId": "ddb92ac8-2e5a-49d4-ee80-a1d9b18492d2"
   },
   "outputs": [],
   "source": [
    "xin = x_train[:5].view(-1,28*28)\n",
    "score = model(Variable(xin))\n",
    "score"
   ]
  },
  {
   "cell_type": "markdown",
   "metadata": {
    "id": "JsyINWhBOl2m"
   },
   "source": [
    "## Treinamento"
   ]
  },
  {
   "cell_type": "markdown",
   "metadata": {
    "id": "Cj7WB9NzOl2n"
   },
   "source": [
    "### Inicialização dos parâmetros"
   ]
  },
  {
   "cell_type": "code",
   "execution_count": null,
   "metadata": {
    "ExecuteTime": {
     "end_time": "2017-11-24T15:44:51.425768",
     "start_time": "2017-11-24T15:44:51.420825"
    },
    "id": "xgTvQXGCOl2o"
   },
   "outputs": [],
   "source": [
    "epochs = 100\n",
    "learningRate = 0.5\n",
    "\n",
    "# Utilizaremos CrossEntropyLoss como função de perda\n",
    "criterion = torch.nn.CrossEntropyLoss()\n",
    "\n",
    "# Gradiente descendente\n",
    "optimizer = torch.optim.SGD(model.parameters(), lr=learningRate)"
   ]
  },
  {
   "cell_type": "markdown",
   "metadata": {
    "id": "fK50bgRzOl2z"
   },
   "source": [
    "### Visualização do grafo computacional da perda (loss)"
   ]
  },
  {
   "cell_type": "code",
   "execution_count": null,
   "metadata": {
    "colab": {
     "base_uri": "https://localhost:8080/"
    },
    "id": "sLuv_VgNENQf",
    "outputId": "35971fb2-6340-4a92-a519-e659638187f2"
   },
   "outputs": [],
   "source": [
    "!pip install graphviz\n",
    "!pip install git+https://github.com/szagoruyko/pytorchviz"
   ]
  },
  {
   "cell_type": "code",
   "execution_count": null,
   "metadata": {
    "ExecuteTime": {
     "end_time": "2017-11-24T16:28:18.101867",
     "start_time": "2017-11-24T16:28:18.062312"
    },
    "colab": {
     "base_uri": "https://localhost:8080/"
    },
    "id": "icZLveYLOl20",
    "outputId": "d8bee05b-61f4-4eca-d978-2ac50a2fddb9"
   },
   "outputs": [],
   "source": [
    "from torchviz import make_dot, make_dot_from_trace\n",
    "y_pred = model(Variable(x_train.view(-1,28*28)))\n",
    "loss = criterion(y_pred, Variable(y_train))\n",
    "loss\n"
   ]
  },
  {
   "cell_type": "code",
   "execution_count": null,
   "metadata": {
    "colab": {
     "base_uri": "https://localhost:8080/",
     "height": 543
    },
    "id": "U15ie_7ni0JE",
    "outputId": "ff615864-089a-467f-a38f-19041d450d6a"
   },
   "outputs": [],
   "source": [
    "p = make_dot(loss, dict(model.named_parameters()))\n",
    "p"
   ]
  },
  {
   "cell_type": "markdown",
   "metadata": {
    "id": "jnUCb6j_Ol23"
   },
   "source": [
    "### Laço de treinamento dos pesos"
   ]
  },
  {
   "cell_type": "code",
   "execution_count": null,
   "metadata": {
    "ExecuteTime": {
     "end_time": "2017-11-24T15:44:51.678678",
     "start_time": "2017-11-24T15:44:51.427695"
    },
    "id": "g5aavLLTOl24"
   },
   "outputs": [],
   "source": [
    "import numpy\n",
    "losses = []\n",
    "zs = []\n",
    "\n",
    "for i in range(epochs):\n",
    "    # Transforma a entrada para uma dimensão\n",
    "    inputs = Variable(x_train.view(-1, 28 * 28))\n",
    "    # Predict da rede\n",
    "    outputs = model(inputs)\n",
    "\n",
    "    # z0 a z9\n",
    "    zs.append(outputs[1].detach().numpy())\n",
    "\n",
    "    # calcula a perda\n",
    "    loss = criterion(outputs, Variable(y_train))\n",
    "\n",
    "    # zero, backpropagation, ajusta parâmetros pelo gradiente descendente\n",
    "    optimizer.zero_grad()\n",
    "    loss.backward()\n",
    "    optimizer.step()\n",
    "\n",
    "    losses.append(loss.item())\n",
    "    \n",
    "    _, predicts = torch.max(outputs, 1)\n",
    "\n",
    "    y_pred = predicts.data\n",
    "    accuracy = (y_pred.numpy() == y_train.numpy()).mean()\n",
    "    print(f'epoch: [{i+1}:{epochs}]  |  loss: {loss}  |  accuracy: {accuracy}')\n"
   ]
  },
  {
   "cell_type": "code",
   "execution_count": null,
   "metadata": {
    "ExecuteTime": {
     "end_time": "2017-11-24T15:44:51.685301",
     "start_time": "2017-11-24T15:44:51.680419"
    },
    "colab": {
     "base_uri": "https://localhost:8080/"
    },
    "id": "menkKvteOl27",
    "outputId": "84a9a32b-72b0-43a8-8d92-0cd6e836666c"
   },
   "outputs": [],
   "source": [
    "print('Final loss:', loss.item())"
   ]
  },
  {
   "cell_type": "markdown",
   "metadata": {
    "id": "j1pLKxlqOl3F"
   },
   "source": [
    "### Visualizando gráfico de perda durante o treinamento"
   ]
  },
  {
   "cell_type": "code",
   "execution_count": null,
   "metadata": {
    "ExecuteTime": {
     "end_time": "2017-11-24T15:44:56.787741",
     "start_time": "2017-11-24T15:44:56.627754"
    },
    "colab": {
     "base_uri": "https://localhost:8080/",
     "height": 447
    },
    "id": "UlivLNgcOl3G",
    "outputId": "2fe248a9-3101-4973-b3e9-426c4861efc7"
   },
   "outputs": [],
   "source": [
    "plt.plot(losses)"
   ]
  },
  {
   "cell_type": "markdown",
   "metadata": {
    "id": "zUTfdh5VOl3N"
   },
   "source": [
    "## Avaliação"
   ]
  },
  {
   "cell_type": "markdown",
   "metadata": {
    "id": "XgFPZ9hNOl3O"
   },
   "source": [
    "### Acurácia tanto no conjunto de treinamento como no conjunto de testes"
   ]
  },
  {
   "cell_type": "code",
   "execution_count": null,
   "metadata": {
    "ExecuteTime": {
     "end_time": "2017-11-24T15:50:29.922115",
     "start_time": "2017-11-24T15:50:29.914004"
    },
    "colab": {
     "base_uri": "https://localhost:8080/"
    },
    "id": "JMo5hSBhOl3P",
    "outputId": "5d9a4717-3438-4a27-db46-aad0c94d6279"
   },
   "outputs": [],
   "source": [
    "def predict(model, input_data):\n",
    "    outputs = model(Variable(input_data))\n",
    "    _, predicts = torch.max(outputs, 1)\n",
    "\n",
    "    return predicts.data\n",
    "\n",
    "y_pred = predict(model, x_train.view(-1, 28*28))\n",
    "accuracy = (y_pred.numpy() == y_train.numpy()).mean()\n",
    "print('Accuracy:', accuracy)"
   ]
  },
  {
   "cell_type": "markdown",
   "metadata": {
    "id": "Po0mlGpCOl3W"
   },
   "source": [
    "### Matriz de confusão com dados de treinamento e teste"
   ]
  },
  {
   "cell_type": "code",
   "execution_count": null,
   "metadata": {
    "ExecuteTime": {
     "end_time": "2017-11-24T15:51:40.706177",
     "start_time": "2017-11-24T15:51:40.679474"
    },
    "colab": {
     "base_uri": "https://localhost:8080/",
     "height": 411
    },
    "id": "PtA3ZAUjOl3X",
    "outputId": "cce2c7d5-53bf-41f6-add0-0cd39a48caf5"
   },
   "outputs": [],
   "source": [
    "print('Matriz de confusão:')\n",
    "pd.crosstab(y_pred.numpy(), y_train.numpy())"
   ]
  },
  {
   "cell_type": "markdown",
   "metadata": {
    "id": "6Df5Xz6rOl3c"
   },
   "source": [
    "## Visualizando a matriz de pesos treinados"
   ]
  },
  {
   "cell_type": "markdown",
   "metadata": {
    "id": "DLo6HaWGOl3n"
   },
   "source": [
    "Observe que a matriz de peso treinado para cada classe mostra a importância dos pesos associados aos caracteres de cada classe."
   ]
  },
  {
   "cell_type": "code",
   "execution_count": null,
   "metadata": {
    "ExecuteTime": {
     "end_time": "2017-11-24T16:34:49.367135",
     "start_time": "2017-11-24T16:34:49.204452"
    },
    "colab": {
     "base_uri": "https://localhost:8080/",
     "height": 465
    },
    "id": "uoBSV4EqOl3q",
    "outputId": "8a3e7f08-bac6-4001-d856-1bf102663cff"
   },
   "outputs": [],
   "source": [
    "weights = model.state_dict()['weight']\n",
    "print('weights:', weights.shape)\n",
    "\n",
    "bias = model.state_dict()['bias']\n",
    "print('bias:   ', bias.shape)\n",
    "\n",
    "# Visualizando pesos da classe 3\n",
    "plt.imshow(weights[6, :].numpy().reshape((28,28)),cmap = 'gray')\n",
    "plt.show()"
   ]
  },
  {
   "cell_type": "markdown",
   "metadata": {
    "id": "eN6W4vnfOl3w"
   },
   "source": [
    "### Visualizando os pesos de todas as classes"
   ]
  },
  {
   "cell_type": "code",
   "execution_count": null,
   "metadata": {
    "ExecuteTime": {
     "end_time": "2017-11-24T16:34:50.240218",
     "start_time": "2017-11-24T16:34:50.025515"
    },
    "colab": {
     "base_uri": "https://localhost:8080/",
     "height": 156
    },
    "id": "0Vz_WwiDOl3x",
    "outputId": "89385467-e5b5-44ab-93d9-da70459bee80"
   },
   "outputs": [],
   "source": [
    "# cria um grid com as imagens\n",
    "grid = torchvision.utils.make_grid(weights.view(-1, 1, 28, 28), normalize=True, pad_value=1.0, padding=1, nrow=10)\n",
    "\n",
    "plt.figure(figsize=(15, 10))\n",
    "plt.imshow(grid.numpy().transpose(1, 2, 0))\n",
    "plt.axis('off');"
   ]
  },
  {
   "cell_type": "markdown",
   "metadata": {
    "id": "IAwjpjUzOl3z"
   },
   "source": [
    "### Diagrama da regressão softmax com visualização dos pesos W"
   ]
  },
  {
   "cell_type": "markdown",
   "metadata": {
    "id": "Io0kz0bDOl31"
   },
   "source": [
    "![alt text](https://raw.githubusercontent.com/vcasadei/images/master/RegressaoSoftmaxArgmaxNMIST.png)"
   ]
  },
  {
   "cell_type": "markdown",
   "metadata": {
    "id": "KKKZDmIvOl31"
   },
   "source": [
    "# Atividades"
   ]
  },
  {
   "cell_type": "markdown",
   "metadata": {
    "id": "fMcK8rnnOl31"
   },
   "source": [
    "## Exercícios"
   ]
  },
  {
   "cell_type": "markdown",
   "metadata": {
    "id": "bcYvj-5dOl4I"
   },
   "source": [
    "- 1) Insira código no laço do treinamento para que no final de cada época,\n",
    "     seja impresso: o número da época e a perda e a acurácia \n",
    "     OK"
   ]
  },
  {
   "cell_type": "code",
   "execution_count": null,
   "metadata": {},
   "outputs": [],
   "source": [
    "import numpy\n",
    "losses = []\n",
    "zs = []\n",
    "\n",
    "for i in range(epochs):\n",
    "    # Transforma a entrada para uma dimensão\n",
    "    inputs = Variable(x_train.view(-1, 28 * 28))\n",
    "    # Predict da rede\n",
    "    outputs = model(inputs)\n",
    "\n",
    "    # z0 a z9\n",
    "    zs.append(outputs[1].detach().numpy())\n",
    "\n",
    "    # calcula a perda\n",
    "    loss = criterion(outputs, Variable(y_train))\n",
    "\n",
    "    # zero, backpropagation, ajusta parâmetros pelo gradiente descendente\n",
    "    optimizer.zero_grad()\n",
    "    loss.backward()\n",
    "    optimizer.step()\n",
    "\n",
    "    losses.append(loss.item())\n",
    "    \n",
    "    _, predicts = torch.max(outputs, 1)\n",
    "\n",
    "    y_pred = predicts.data\n",
    "    accuracy = (y_pred.numpy() == y_train.numpy()).mean()\n",
    "    print(f'epoch: [{i+1}:{epochs}]  |  loss: {loss}  |  accuracy: {accuracy}')"
   ]
  },
  {
   "cell_type": "markdown",
   "metadata": {
    "id": "0xttWrUbOl4J"
   },
   "source": [
    "- 2) Insira código no laço do treinamento para visualização dos valores dos gradientes referentes à classe do dígito 4, no final de cada época."
   ]
  },
  {
   "cell_type": "code",
   "execution_count": null,
   "metadata": {},
   "outputs": [],
   "source": [
    "import numpy\n",
    "losses = []\n",
    "zs = []\n",
    "\n",
    "for i in range(epochs):\n",
    "    # Transforma a entrada para uma dimensão\n",
    "    inputs = Variable(x_train.view(-1, 28 * 28))\n",
    "    # Predict da rede\n",
    "    outputs = model(inputs)\n",
    "\n",
    "    # z0 a z9\n",
    "    zs.append(outputs[1].detach().numpy())\n",
    "\n",
    "    # calcula a perda\n",
    "    loss = criterion(outputs, Variable(y_train))\n",
    "\n",
    "    # zero, backpropagation, ajusta parâmetros pelo gradiente descendente\n",
    "    optimizer.zero_grad()\n",
    "    loss.backward()\n",
    "    optimizer.step()\n",
    "\n",
    "    losses.append(loss.item())\n",
    "    \n",
    "    _, predicts = torch.max(outputs, 1)\n",
    "\n",
    "    y_pred = predicts.data\n",
    "    accuracy = (y_pred.numpy() == y_train.numpy()).mean()\n",
    "    \n",
    "    weights = model.state_dict()['weight']\n",
    "\n",
    "    # Visualizando pesos da classe 3\n",
    "    print(f'epoch: [{i+1}:{epochs}')\n",
    "    plt.imshow(weights[4, :].numpy().reshape((28,28)),cmap = 'gray')\n",
    "    plt.show()\n"
   ]
  },
  {
   "cell_type": "markdown",
   "metadata": {
    "id": "28SnX4gHjeLj"
   },
   "source": [
    "<details>\n",
    "<summary>Mostrar Resultado</summary>\n",
    "\n",
    "```python\n",
    "losses = []\n",
    "import numpy\n",
    "\n",
    "import numpy\n",
    "zs = []\n",
    "\n",
    "for i in range(epochs):\n",
    "    # Transforma a entrada para uma dimensão\n",
    "    inputs = Variable(x_train.view(-1, 28 * 28))\n",
    "    # Predict da rede\n",
    "    outputs = model(inputs)\n",
    "    \n",
    "    # z0 a z9\n",
    "    zs.append(outputs[1].detach().numpy())\n",
    "\n",
    "    # calcula a perda\n",
    "    loss = criterion(outputs, Variable(y_train))\n",
    "\n",
    "    # zero, backpropagation, ajusta parâmetros pelo gradiente descendente\n",
    "    optimizer.zero_grad()\n",
    "    loss.backward()\n",
    "    optimizer.step()\n",
    "\n",
    "    losses.append(loss.item())\n",
    "    \n",
    "    _, predicts = torch.max(outputs, 1)\n",
    "    \n",
    "    y_pred = predicts.data\n",
    "    accuracy = (y_pred.numpy() == y_train.numpy()).mean()\n",
    "    \n",
    "    print('Epoch[{}/{}], loss: {:.6f}, acc: {:.6f}'\n",
    "              .format(i+1, epochs, loss.data, accuracy))\n",
    "    \n",
    "    weights = model.state_dict()['weight']\n",
    "    print('weights:', weights.shape)\n",
    "\n",
    "    bias = model.state_dict()['bias']\n",
    "    print('bias:   ', bias.shape)\n",
    "\n",
    "    # Visualizando pesos da classe 3\n",
    "    plt.imshow(weights[4, :].numpy().reshape((28,28)),cmap = 'gray')\n",
    "    plt.show()\n",
    "```\n",
    "\n",
    "</details>"
   ]
  },
  {
   "cell_type": "markdown",
   "metadata": {
    "id": "yDhND6p3Ol4J"
   },
   "source": [
    "## Perguntas"
   ]
  },
  {
   "cell_type": "markdown",
   "metadata": {
    "id": "AXg8GBrsOl4L"
   },
   "source": [
    "1. Qual é o shape da matriz de entrada na rede? \n",
    "> (1000 ,28, 28)\n",
    "2. Qual é o shape da saída da rede? \n",
    "> (1000, 10)\n",
    "3. Qual é o número total de parâmetros da rede, incluindo o bias? \n",
    "> (28 * 28 * 10 + 10) = 7850"
   ]
  },
  {
   "cell_type": "markdown",
   "metadata": {
    "id": "0aj1pg_ZOl4L"
   },
   "source": [
    "# Aprendizados\n"
   ]
  }
 ],
 "metadata": {
  "accelerator": "TPU",
  "colab": {
   "name": "3.2-LogisticRegressionMNIST.ipynb",
   "provenance": []
  },
  "kernelspec": {
   "display_name": "Python 3",
   "language": "python",
   "name": "python3"
  },
  "language_info": {
   "codemirror_mode": {
    "name": "ipython",
    "version": 3
   },
   "file_extension": ".py",
   "mimetype": "text/x-python",
   "name": "python",
   "nbconvert_exporter": "python",
   "pygments_lexer": "ipython3",
   "version": "3.12.7"
  }
 },
 "nbformat": 4,
 "nbformat_minor": 0
}
