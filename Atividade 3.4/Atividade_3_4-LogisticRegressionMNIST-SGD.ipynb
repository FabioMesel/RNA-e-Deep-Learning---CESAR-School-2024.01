{
 "cells": [
  {
   "cell_type": "markdown",
   "metadata": {
    "id": "gbTOc6cbl-eq"
   },
   "source": [
    "# Regressão Softmax com dados do MNIST utilizando gradiente descendente estocástico por minibatches"
   ]
  },
  {
   "cell_type": "markdown",
   "metadata": {
    "id": "C-IK0yRml-er"
   },
   "source": [
    "O objetivo deste notebook é ilustrar\n",
    "- o uso do gradiente estocástico por mini-batchs\n",
    "- utilizando as classes Dataset e DataLoater.\n",
    "\n",
    "A apresentação da perda nos gráficos é um pouco diferente da usual, mostrando a perda de cada um dos vários minibatches dentro de cada época, de forma que as épocas são apresentadas com valores fracionários."
   ]
  },
  {
   "cell_type": "markdown",
   "metadata": {
    "id": "mqqDXfr4l-et"
   },
   "source": [
    "## Importação das bibliotecas"
   ]
  },
  {
   "cell_type": "code",
   "execution_count": 1,
   "metadata": {
    "ExecuteTime": {
     "end_time": "2017-11-24T22:39:50.314578Z",
     "start_time": "2017-11-24T22:39:48.904460Z"
    },
    "id": "0Iry5pajl-eu"
   },
   "outputs": [],
   "source": [
    "%matplotlib inline\n",
    "import numpy as np\n",
    "import matplotlib.pyplot as plt\n",
    "\n",
    "import torch\n",
    "from torch.autograd import Variable\n",
    "from torch.utils.data import DataLoader\n",
    "\n",
    "import torchvision\n",
    "from torchvision.datasets import MNIST"
   ]
  },
  {
   "cell_type": "markdown",
   "metadata": {
    "id": "QqgILyIkl-ey"
   },
   "source": [
    "## Dataset e dataloader"
   ]
  },
  {
   "cell_type": "markdown",
   "metadata": {
    "id": "VAMBUN5ol-ez"
   },
   "source": [
    "### Definição do tamanho do minibatch"
   ]
  },
  {
   "cell_type": "code",
   "execution_count": 2,
   "metadata": {
    "ExecuteTime": {
     "end_time": "2017-11-24T22:39:50.323379Z",
     "start_time": "2017-11-24T22:39:50.318024Z"
    },
    "id": "1YGmeZtbl-ez"
   },
   "outputs": [],
   "source": [
    "batch_size = 400"
   ]
  },
  {
   "cell_type": "markdown",
   "metadata": {
    "id": "3uaaezsvl-e5"
   },
   "source": [
    "### Carregamento, criação dataset e do dataloader"
   ]
  },
  {
   "cell_type": "code",
   "execution_count": 3,
   "metadata": {
    "ExecuteTime": {
     "end_time": "2017-11-24T22:39:50.400325Z",
     "start_time": "2017-11-24T22:39:50.326019Z"
    },
    "colab": {
     "base_uri": "https://localhost:8080/"
    },
    "id": "TRXgajEXl-e6",
    "outputId": "86b9c74e-4536-4f75-d80b-30ea7c2add40"
   },
   "outputs": [
    {
     "name": "stdout",
     "output_type": "stream",
     "text": [
      "Downloading http://yann.lecun.com/exdb/mnist/train-images-idx3-ubyte.gz\n",
      "Failed to download (trying next):\n",
      "HTTP Error 403: Forbidden\n",
      "\n",
      "Downloading https://ossci-datasets.s3.amazonaws.com/mnist/train-images-idx3-ubyte.gz\n",
      "Downloading https://ossci-datasets.s3.amazonaws.com/mnist/train-images-idx3-ubyte.gz to MNIST/MNIST\\raw\\train-images-idx3-ubyte.gz\n"
     ]
    },
    {
     "name": "stderr",
     "output_type": "stream",
     "text": [
      "100.0%\n"
     ]
    },
    {
     "name": "stdout",
     "output_type": "stream",
     "text": [
      "Extracting MNIST/MNIST\\raw\\train-images-idx3-ubyte.gz to MNIST/MNIST\\raw\n",
      "\n",
      "Downloading http://yann.lecun.com/exdb/mnist/train-labels-idx1-ubyte.gz\n",
      "Failed to download (trying next):\n",
      "HTTP Error 403: Forbidden\n",
      "\n",
      "Downloading https://ossci-datasets.s3.amazonaws.com/mnist/train-labels-idx1-ubyte.gz\n",
      "Downloading https://ossci-datasets.s3.amazonaws.com/mnist/train-labels-idx1-ubyte.gz to MNIST/MNIST\\raw\\train-labels-idx1-ubyte.gz\n"
     ]
    },
    {
     "name": "stderr",
     "output_type": "stream",
     "text": [
      "100.0%\n"
     ]
    },
    {
     "name": "stdout",
     "output_type": "stream",
     "text": [
      "Extracting MNIST/MNIST\\raw\\train-labels-idx1-ubyte.gz to MNIST/MNIST\\raw\n",
      "\n",
      "Downloading http://yann.lecun.com/exdb/mnist/t10k-images-idx3-ubyte.gz\n",
      "Failed to download (trying next):\n",
      "HTTP Error 403: Forbidden\n",
      "\n",
      "Downloading https://ossci-datasets.s3.amazonaws.com/mnist/t10k-images-idx3-ubyte.gz\n",
      "Downloading https://ossci-datasets.s3.amazonaws.com/mnist/t10k-images-idx3-ubyte.gz to MNIST/MNIST\\raw\\t10k-images-idx3-ubyte.gz\n"
     ]
    },
    {
     "name": "stderr",
     "output_type": "stream",
     "text": [
      "100.0%\n"
     ]
    },
    {
     "name": "stdout",
     "output_type": "stream",
     "text": [
      "Extracting MNIST/MNIST\\raw\\t10k-images-idx3-ubyte.gz to MNIST/MNIST\\raw\n",
      "\n",
      "Downloading http://yann.lecun.com/exdb/mnist/t10k-labels-idx1-ubyte.gz\n",
      "Failed to download (trying next):\n",
      "HTTP Error 403: Forbidden\n",
      "\n",
      "Downloading https://ossci-datasets.s3.amazonaws.com/mnist/t10k-labels-idx1-ubyte.gz\n",
      "Downloading https://ossci-datasets.s3.amazonaws.com/mnist/t10k-labels-idx1-ubyte.gz to MNIST/MNIST\\raw\\t10k-labels-idx1-ubyte.gz\n"
     ]
    },
    {
     "name": "stderr",
     "output_type": "stream",
     "text": [
      "100.0%\n"
     ]
    },
    {
     "name": "stdout",
     "output_type": "stream",
     "text": [
      "Extracting MNIST/MNIST\\raw\\t10k-labels-idx1-ubyte.gz to MNIST/MNIST\\raw\n",
      "\n",
      "Número de minibatches de trenamento: 150\n",
      "\n",
      "Dimensões dos dados de um minibatch: torch.Size([400, 1, 28, 28])\n",
      "Valores mínimo e máximo dos pixels:  tensor(0.) tensor(1.)\n",
      "Tipo dos dados das imagens:          <class 'torch.Tensor'>\n",
      "Tipo das classes das imagens:        <class 'torch.Tensor'>\n"
     ]
    }
   ],
   "source": [
    "dataset_dir = 'MNIST/'\n",
    "\n",
    "dataset_train = MNIST(dataset_dir, train=True, download=True,\n",
    "                      transform=torchvision.transforms.ToTensor())\n",
    "\n",
    "loader_train = DataLoader(dataset_train, batch_size=batch_size, shuffle=True)\n",
    "\n",
    "print('Número de minibatches de trenamento:', len(loader_train))\n",
    "\n",
    "x_train, y_train = next(iter(loader_train))\n",
    "print(\"\\nDimensões dos dados de um minibatch:\", x_train.size())\n",
    "print(\"Valores mínimo e máximo dos pixels: \", torch.min(x_train), torch.max(x_train))\n",
    "print(\"Tipo dos dados das imagens:         \", type(x_train))\n",
    "print(\"Tipo das classes das imagens:       \", type(y_train))"
   ]
  },
  {
   "cell_type": "markdown",
   "metadata": {
    "id": "Jalws0jHl-fB"
   },
   "source": [
    "### Usando todas as amostras do MNIST\n",
    "\n",
    "Neste exemplo utilizaremos todas as amostras de treinamento."
   ]
  },
  {
   "cell_type": "code",
   "execution_count": 4,
   "metadata": {
    "ExecuteTime": {
     "end_time": "2017-11-24T22:39:50.414117Z",
     "start_time": "2017-11-24T22:39:50.402687Z"
    },
    "colab": {
     "base_uri": "https://localhost:8080/"
    },
    "id": "TnFMMGDKl-fC",
    "outputId": "1be6472e-9c20-4c93-9b4b-218630ba6d07"
   },
   "outputs": [
    {
     "name": "stdout",
     "output_type": "stream",
     "text": [
      "Número de minibatches de trenamento: 150\n"
     ]
    },
    {
     "name": "stderr",
     "output_type": "stream",
     "text": [
      "c:\\Users\\fabio\\AppData\\Local\\Programs\\Python\\Python312\\Lib\\site-packages\\torchvision\\datasets\\mnist.py:76: UserWarning: train_data has been renamed data\n",
      "  warnings.warn(\"train_data has been renamed data\")\n"
     ]
    }
   ],
   "source": [
    "print('Número de minibatches de trenamento:', len(loader_train))\n",
    "n_batches_train = len(loader_train)\n",
    "total_samples = dataset_train.train_data.size(0)"
   ]
  },
  {
   "cell_type": "markdown",
   "metadata": {
    "id": "dz6ke_hfl-fF"
   },
   "source": [
    "## Modelo"
   ]
  },
  {
   "cell_type": "code",
   "execution_count": 5,
   "metadata": {
    "ExecuteTime": {
     "end_time": "2017-11-24T22:39:50.422994Z",
     "start_time": "2017-11-24T22:39:50.416568Z"
    },
    "id": "8iCWX43fl-fG"
   },
   "outputs": [],
   "source": [
    "model = torch.nn.Linear(28*28, 10)"
   ]
  },
  {
   "cell_type": "code",
   "execution_count": 6,
   "metadata": {
    "colab": {
     "base_uri": "https://localhost:8080/"
    },
    "id": "GrIFjo18dZ_L",
    "outputId": "46eb559e-6669-4254-d7af-8875aec85d36"
   },
   "outputs": [
    {
     "name": "stdout",
     "output_type": "stream",
     "text": [
      "torch.Size([1, 784])\n"
     ]
    },
    {
     "data": {
      "text/plain": [
       "tensor([[ 0.3962,  0.2001,  0.3027, -0.0811,  0.0931, -0.2778,  1.2653,  0.0771,\n",
       "          0.6856, -0.6796]], grad_fn=<AddmmBackward0>)"
      ]
     },
     "execution_count": 6,
     "metadata": {},
     "output_type": "execute_result"
    }
   ],
   "source": [
    "x = torch.ones(28*28).reshape(1, 784)\n",
    "print(x.shape)\n",
    "predict = model(x)\n",
    "predict"
   ]
  },
  {
   "cell_type": "markdown",
   "metadata": {
    "id": "kVDFEZBql-fJ"
   },
   "source": [
    "## Treinamento"
   ]
  },
  {
   "cell_type": "markdown",
   "metadata": {
    "id": "OUAeuSK6l-fJ"
   },
   "source": [
    "### Inicialização dos parâmetros"
   ]
  },
  {
   "cell_type": "code",
   "execution_count": 7,
   "metadata": {
    "ExecuteTime": {
     "end_time": "2017-11-24T22:39:50.433321Z",
     "start_time": "2017-11-24T22:39:50.426167Z"
    },
    "id": "XT5_fSiQl-fK"
   },
   "outputs": [],
   "source": [
    "n_epochs = 5\n",
    "learningRate = 0.5\n",
    "\n",
    "# Utilizaremos CrossEntropyLoss como função de perda\n",
    "criterion = torch.nn.CrossEntropyLoss()\n",
    "\n",
    "# Gradiente descendente\n",
    "optimizer = torch.optim.SGD(model.parameters(), lr=learningRate)"
   ]
  },
  {
   "cell_type": "markdown",
   "metadata": {
    "id": "-OM9OWI6l-fN"
   },
   "source": [
    "### Laço de treinamento dos parâmetros"
   ]
  },
  {
   "cell_type": "code",
   "execution_count": 8,
   "metadata": {
    "ExecuteTime": {
     "end_time": "2017-11-24T22:39:50.984972Z",
     "start_time": "2017-11-24T22:39:50.435673Z"
    },
    "id": "JvNVUUFTl-fQ"
   },
   "outputs": [
    {
     "name": "stdout",
     "output_type": "stream",
     "text": [
      "Época: 1:5, batch: 1/150\n",
      "Época: 1:5, batch: 2/150\n",
      "Época: 1:5, batch: 3/150\n",
      "Época: 1:5, batch: 4/150\n",
      "Época: 1:5, batch: 5/150\n",
      "Época: 1:5, batch: 6/150\n",
      "Época: 1:5, batch: 7/150\n",
      "Época: 1:5, batch: 8/150\n",
      "Época: 1:5, batch: 9/150\n",
      "Época: 1:5, batch: 10/150\n",
      "Época: 1:5, batch: 11/150\n",
      "Época: 1:5, batch: 12/150\n",
      "Época: 1:5, batch: 13/150\n",
      "Época: 1:5, batch: 14/150\n",
      "Época: 1:5, batch: 15/150\n",
      "Época: 1:5, batch: 16/150\n",
      "Época: 1:5, batch: 17/150\n",
      "Época: 1:5, batch: 18/150\n",
      "Época: 1:5, batch: 19/150\n",
      "Época: 1:5, batch: 20/150\n",
      "Época: 1:5, batch: 21/150\n",
      "Época: 1:5, batch: 22/150\n",
      "Época: 1:5, batch: 23/150\n",
      "Época: 1:5, batch: 24/150\n",
      "Época: 1:5, batch: 25/150\n",
      "Época: 1:5, batch: 26/150\n",
      "Época: 1:5, batch: 27/150\n",
      "Época: 1:5, batch: 28/150\n",
      "Época: 1:5, batch: 29/150\n",
      "Época: 1:5, batch: 30/150\n",
      "Época: 1:5, batch: 31/150\n",
      "Época: 1:5, batch: 32/150\n",
      "Época: 1:5, batch: 33/150\n",
      "Época: 1:5, batch: 34/150\n",
      "Época: 1:5, batch: 35/150\n",
      "Época: 1:5, batch: 36/150\n",
      "Época: 1:5, batch: 37/150\n",
      "Época: 1:5, batch: 38/150\n",
      "Época: 1:5, batch: 39/150\n",
      "Época: 1:5, batch: 40/150\n",
      "Época: 1:5, batch: 41/150\n",
      "Época: 1:5, batch: 42/150\n",
      "Época: 1:5, batch: 43/150\n",
      "Época: 1:5, batch: 44/150\n",
      "Época: 1:5, batch: 45/150\n",
      "Época: 1:5, batch: 46/150\n",
      "Época: 1:5, batch: 47/150\n",
      "Época: 1:5, batch: 48/150\n",
      "Época: 1:5, batch: 49/150\n",
      "Época: 1:5, batch: 50/150\n",
      "Época: 1:5, batch: 51/150\n",
      "Época: 1:5, batch: 52/150\n",
      "Época: 1:5, batch: 53/150\n",
      "Época: 1:5, batch: 54/150\n",
      "Época: 1:5, batch: 55/150\n",
      "Época: 1:5, batch: 56/150\n",
      "Época: 1:5, batch: 57/150\n",
      "Época: 1:5, batch: 58/150\n",
      "Época: 1:5, batch: 59/150\n",
      "Época: 1:5, batch: 60/150\n",
      "Época: 1:5, batch: 61/150\n",
      "Época: 1:5, batch: 62/150\n",
      "Época: 1:5, batch: 63/150\n",
      "Época: 1:5, batch: 64/150\n",
      "Época: 1:5, batch: 65/150\n",
      "Época: 1:5, batch: 66/150\n",
      "Época: 1:5, batch: 67/150\n",
      "Época: 1:5, batch: 68/150\n",
      "Época: 1:5, batch: 69/150\n",
      "Época: 1:5, batch: 70/150\n",
      "Época: 1:5, batch: 71/150\n",
      "Época: 1:5, batch: 72/150\n",
      "Época: 1:5, batch: 73/150\n",
      "Época: 1:5, batch: 74/150\n",
      "Época: 1:5, batch: 75/150\n",
      "Época: 1:5, batch: 76/150\n",
      "Época: 1:5, batch: 77/150\n",
      "Época: 1:5, batch: 78/150\n",
      "Época: 1:5, batch: 79/150\n",
      "Época: 1:5, batch: 80/150\n",
      "Época: 1:5, batch: 81/150\n",
      "Época: 1:5, batch: 82/150\n",
      "Época: 1:5, batch: 83/150\n",
      "Época: 1:5, batch: 84/150\n",
      "Época: 1:5, batch: 85/150\n",
      "Época: 1:5, batch: 86/150\n",
      "Época: 1:5, batch: 87/150\n",
      "Época: 1:5, batch: 88/150\n",
      "Época: 1:5, batch: 89/150\n",
      "Época: 1:5, batch: 90/150\n",
      "Época: 1:5, batch: 91/150\n",
      "Época: 1:5, batch: 92/150\n",
      "Época: 1:5, batch: 93/150\n",
      "Época: 1:5, batch: 94/150\n",
      "Época: 1:5, batch: 95/150\n",
      "Época: 1:5, batch: 96/150\n",
      "Época: 1:5, batch: 97/150\n",
      "Época: 1:5, batch: 98/150\n",
      "Época: 1:5, batch: 99/150\n",
      "Época: 1:5, batch: 100/150\n",
      "Época: 1:5, batch: 101/150\n",
      "Época: 1:5, batch: 102/150\n",
      "Época: 1:5, batch: 103/150\n",
      "Época: 1:5, batch: 104/150\n",
      "Época: 1:5, batch: 105/150\n",
      "Época: 1:5, batch: 106/150\n",
      "Época: 1:5, batch: 107/150\n",
      "Época: 1:5, batch: 108/150\n",
      "Época: 1:5, batch: 109/150\n",
      "Época: 1:5, batch: 110/150\n",
      "Época: 1:5, batch: 111/150\n",
      "Época: 1:5, batch: 112/150\n",
      "Época: 1:5, batch: 113/150\n",
      "Época: 1:5, batch: 114/150\n",
      "Época: 1:5, batch: 115/150\n",
      "Época: 1:5, batch: 116/150\n",
      "Época: 1:5, batch: 117/150\n",
      "Época: 1:5, batch: 118/150\n",
      "Época: 1:5, batch: 119/150\n",
      "Época: 1:5, batch: 120/150\n",
      "Época: 1:5, batch: 121/150\n",
      "Época: 1:5, batch: 122/150\n",
      "Época: 1:5, batch: 123/150\n",
      "Época: 1:5, batch: 124/150\n",
      "Época: 1:5, batch: 125/150\n",
      "Época: 1:5, batch: 126/150\n",
      "Época: 1:5, batch: 127/150\n",
      "Época: 1:5, batch: 128/150\n",
      "Época: 1:5, batch: 129/150\n",
      "Época: 1:5, batch: 130/150\n",
      "Época: 1:5, batch: 131/150\n",
      "Época: 1:5, batch: 132/150\n",
      "Época: 1:5, batch: 133/150\n",
      "Época: 1:5, batch: 134/150\n",
      "Época: 1:5, batch: 135/150\n",
      "Época: 1:5, batch: 136/150\n",
      "Época: 1:5, batch: 137/150\n",
      "Época: 1:5, batch: 138/150\n",
      "Época: 1:5, batch: 139/150\n",
      "Época: 1:5, batch: 140/150\n",
      "Época: 1:5, batch: 141/150\n",
      "Época: 1:5, batch: 142/150\n",
      "Época: 1:5, batch: 143/150\n",
      "Época: 1:5, batch: 144/150\n",
      "Época: 1:5, batch: 145/150\n",
      "Época: 1:5, batch: 146/150\n",
      "Época: 1:5, batch: 147/150\n",
      "Época: 1:5, batch: 148/150\n",
      "Época: 1:5, batch: 149/150\n",
      "Época: 1:5, batch: 150/150\n",
      "Época: 2:5, batch: 1/150\n",
      "Época: 2:5, batch: 2/150\n",
      "Época: 2:5, batch: 3/150\n",
      "Época: 2:5, batch: 4/150\n",
      "Época: 2:5, batch: 5/150\n",
      "Época: 2:5, batch: 6/150\n",
      "Época: 2:5, batch: 7/150\n",
      "Época: 2:5, batch: 8/150\n",
      "Época: 2:5, batch: 9/150\n",
      "Época: 2:5, batch: 10/150\n",
      "Época: 2:5, batch: 11/150\n",
      "Época: 2:5, batch: 12/150\n",
      "Época: 2:5, batch: 13/150\n",
      "Época: 2:5, batch: 14/150\n",
      "Época: 2:5, batch: 15/150\n",
      "Época: 2:5, batch: 16/150\n",
      "Época: 2:5, batch: 17/150\n",
      "Época: 2:5, batch: 18/150\n",
      "Época: 2:5, batch: 19/150\n",
      "Época: 2:5, batch: 20/150\n",
      "Época: 2:5, batch: 21/150\n",
      "Época: 2:5, batch: 22/150\n",
      "Época: 2:5, batch: 23/150\n",
      "Época: 2:5, batch: 24/150\n",
      "Época: 2:5, batch: 25/150\n",
      "Época: 2:5, batch: 26/150\n",
      "Época: 2:5, batch: 27/150\n",
      "Época: 2:5, batch: 28/150\n",
      "Época: 2:5, batch: 29/150\n",
      "Época: 2:5, batch: 30/150\n",
      "Época: 2:5, batch: 31/150\n",
      "Época: 2:5, batch: 32/150\n",
      "Época: 2:5, batch: 33/150\n",
      "Época: 2:5, batch: 34/150\n",
      "Época: 2:5, batch: 35/150\n",
      "Época: 2:5, batch: 36/150\n",
      "Época: 2:5, batch: 37/150\n",
      "Época: 2:5, batch: 38/150\n",
      "Época: 2:5, batch: 39/150\n",
      "Época: 2:5, batch: 40/150\n",
      "Época: 2:5, batch: 41/150\n",
      "Época: 2:5, batch: 42/150\n",
      "Época: 2:5, batch: 43/150\n",
      "Época: 2:5, batch: 44/150\n",
      "Época: 2:5, batch: 45/150\n",
      "Época: 2:5, batch: 46/150\n",
      "Época: 2:5, batch: 47/150\n",
      "Época: 2:5, batch: 48/150\n",
      "Época: 2:5, batch: 49/150\n",
      "Época: 2:5, batch: 50/150\n",
      "Época: 2:5, batch: 51/150\n",
      "Época: 2:5, batch: 52/150\n",
      "Época: 2:5, batch: 53/150\n",
      "Época: 2:5, batch: 54/150\n",
      "Época: 2:5, batch: 55/150\n",
      "Época: 2:5, batch: 56/150\n",
      "Época: 2:5, batch: 57/150\n",
      "Época: 2:5, batch: 58/150\n",
      "Época: 2:5, batch: 59/150\n",
      "Época: 2:5, batch: 60/150\n",
      "Época: 2:5, batch: 61/150\n",
      "Época: 2:5, batch: 62/150\n",
      "Época: 2:5, batch: 63/150\n",
      "Época: 2:5, batch: 64/150\n",
      "Época: 2:5, batch: 65/150\n",
      "Época: 2:5, batch: 66/150\n",
      "Época: 2:5, batch: 67/150\n",
      "Época: 2:5, batch: 68/150\n",
      "Época: 2:5, batch: 69/150\n",
      "Época: 2:5, batch: 70/150\n",
      "Época: 2:5, batch: 71/150\n",
      "Época: 2:5, batch: 72/150\n",
      "Época: 2:5, batch: 73/150\n",
      "Época: 2:5, batch: 74/150\n",
      "Época: 2:5, batch: 75/150\n",
      "Época: 2:5, batch: 76/150\n",
      "Época: 2:5, batch: 77/150\n",
      "Época: 2:5, batch: 78/150\n",
      "Época: 2:5, batch: 79/150\n",
      "Época: 2:5, batch: 80/150\n",
      "Época: 2:5, batch: 81/150\n",
      "Época: 2:5, batch: 82/150\n",
      "Época: 2:5, batch: 83/150\n",
      "Época: 2:5, batch: 84/150\n",
      "Época: 2:5, batch: 85/150\n",
      "Época: 2:5, batch: 86/150\n",
      "Época: 2:5, batch: 87/150\n",
      "Época: 2:5, batch: 88/150\n",
      "Época: 2:5, batch: 89/150\n",
      "Época: 2:5, batch: 90/150\n",
      "Época: 2:5, batch: 91/150\n",
      "Época: 2:5, batch: 92/150\n",
      "Época: 2:5, batch: 93/150\n",
      "Época: 2:5, batch: 94/150\n",
      "Época: 2:5, batch: 95/150\n",
      "Época: 2:5, batch: 96/150\n",
      "Época: 2:5, batch: 97/150\n",
      "Época: 2:5, batch: 98/150\n",
      "Época: 2:5, batch: 99/150\n",
      "Época: 2:5, batch: 100/150\n",
      "Época: 2:5, batch: 101/150\n",
      "Época: 2:5, batch: 102/150\n",
      "Época: 2:5, batch: 103/150\n",
      "Época: 2:5, batch: 104/150\n",
      "Época: 2:5, batch: 105/150\n",
      "Época: 2:5, batch: 106/150\n",
      "Época: 2:5, batch: 107/150\n",
      "Época: 2:5, batch: 108/150\n",
      "Época: 2:5, batch: 109/150\n",
      "Época: 2:5, batch: 110/150\n",
      "Época: 2:5, batch: 111/150\n",
      "Época: 2:5, batch: 112/150\n",
      "Época: 2:5, batch: 113/150\n",
      "Época: 2:5, batch: 114/150\n",
      "Época: 2:5, batch: 115/150\n",
      "Época: 2:5, batch: 116/150\n",
      "Época: 2:5, batch: 117/150\n",
      "Época: 2:5, batch: 118/150\n",
      "Época: 2:5, batch: 119/150\n",
      "Época: 2:5, batch: 120/150\n",
      "Época: 2:5, batch: 121/150\n",
      "Época: 2:5, batch: 122/150\n",
      "Época: 2:5, batch: 123/150\n",
      "Época: 2:5, batch: 124/150\n",
      "Época: 2:5, batch: 125/150\n",
      "Época: 2:5, batch: 126/150\n",
      "Época: 2:5, batch: 127/150\n",
      "Época: 2:5, batch: 128/150\n",
      "Época: 2:5, batch: 129/150\n",
      "Época: 2:5, batch: 130/150\n",
      "Época: 2:5, batch: 131/150\n",
      "Época: 2:5, batch: 132/150\n",
      "Época: 2:5, batch: 133/150\n",
      "Época: 2:5, batch: 134/150\n",
      "Época: 2:5, batch: 135/150\n",
      "Época: 2:5, batch: 136/150\n",
      "Época: 2:5, batch: 137/150\n",
      "Época: 2:5, batch: 138/150\n",
      "Época: 2:5, batch: 139/150\n",
      "Época: 2:5, batch: 140/150\n",
      "Época: 2:5, batch: 141/150\n",
      "Época: 2:5, batch: 142/150\n",
      "Época: 2:5, batch: 143/150\n",
      "Época: 2:5, batch: 144/150\n",
      "Época: 2:5, batch: 145/150\n",
      "Época: 2:5, batch: 146/150\n",
      "Época: 2:5, batch: 147/150\n",
      "Época: 2:5, batch: 148/150\n",
      "Época: 2:5, batch: 149/150\n",
      "Época: 2:5, batch: 150/150\n",
      "Época: 3:5, batch: 1/150\n",
      "Época: 3:5, batch: 2/150\n",
      "Época: 3:5, batch: 3/150\n",
      "Época: 3:5, batch: 4/150\n",
      "Época: 3:5, batch: 5/150\n",
      "Época: 3:5, batch: 6/150\n",
      "Época: 3:5, batch: 7/150\n",
      "Época: 3:5, batch: 8/150\n",
      "Época: 3:5, batch: 9/150\n",
      "Época: 3:5, batch: 10/150\n",
      "Época: 3:5, batch: 11/150\n",
      "Época: 3:5, batch: 12/150\n",
      "Época: 3:5, batch: 13/150\n",
      "Época: 3:5, batch: 14/150\n",
      "Época: 3:5, batch: 15/150\n",
      "Época: 3:5, batch: 16/150\n",
      "Época: 3:5, batch: 17/150\n",
      "Época: 3:5, batch: 18/150\n",
      "Época: 3:5, batch: 19/150\n",
      "Época: 3:5, batch: 20/150\n",
      "Época: 3:5, batch: 21/150\n",
      "Época: 3:5, batch: 22/150\n",
      "Época: 3:5, batch: 23/150\n",
      "Época: 3:5, batch: 24/150\n",
      "Época: 3:5, batch: 25/150\n",
      "Época: 3:5, batch: 26/150\n",
      "Época: 3:5, batch: 27/150\n",
      "Época: 3:5, batch: 28/150\n",
      "Época: 3:5, batch: 29/150\n",
      "Época: 3:5, batch: 30/150\n",
      "Época: 3:5, batch: 31/150\n",
      "Época: 3:5, batch: 32/150\n",
      "Época: 3:5, batch: 33/150\n",
      "Época: 3:5, batch: 34/150\n",
      "Época: 3:5, batch: 35/150\n",
      "Época: 3:5, batch: 36/150\n",
      "Época: 3:5, batch: 37/150\n",
      "Época: 3:5, batch: 38/150\n",
      "Época: 3:5, batch: 39/150\n",
      "Época: 3:5, batch: 40/150\n",
      "Época: 3:5, batch: 41/150\n",
      "Época: 3:5, batch: 42/150\n",
      "Época: 3:5, batch: 43/150\n",
      "Época: 3:5, batch: 44/150\n",
      "Época: 3:5, batch: 45/150\n",
      "Época: 3:5, batch: 46/150\n",
      "Época: 3:5, batch: 47/150\n",
      "Época: 3:5, batch: 48/150\n",
      "Época: 3:5, batch: 49/150\n",
      "Época: 3:5, batch: 50/150\n",
      "Época: 3:5, batch: 51/150\n",
      "Época: 3:5, batch: 52/150\n",
      "Época: 3:5, batch: 53/150\n",
      "Época: 3:5, batch: 54/150\n",
      "Época: 3:5, batch: 55/150\n",
      "Época: 3:5, batch: 56/150\n",
      "Época: 3:5, batch: 57/150\n",
      "Época: 3:5, batch: 58/150\n",
      "Época: 3:5, batch: 59/150\n",
      "Época: 3:5, batch: 60/150\n",
      "Época: 3:5, batch: 61/150\n",
      "Época: 3:5, batch: 62/150\n",
      "Época: 3:5, batch: 63/150\n",
      "Época: 3:5, batch: 64/150\n",
      "Época: 3:5, batch: 65/150\n",
      "Época: 3:5, batch: 66/150\n",
      "Época: 3:5, batch: 67/150\n",
      "Época: 3:5, batch: 68/150\n",
      "Época: 3:5, batch: 69/150\n",
      "Época: 3:5, batch: 70/150\n",
      "Época: 3:5, batch: 71/150\n",
      "Época: 3:5, batch: 72/150\n",
      "Época: 3:5, batch: 73/150\n",
      "Época: 3:5, batch: 74/150\n",
      "Época: 3:5, batch: 75/150\n",
      "Época: 3:5, batch: 76/150\n",
      "Época: 3:5, batch: 77/150\n",
      "Época: 3:5, batch: 78/150\n",
      "Época: 3:5, batch: 79/150\n",
      "Época: 3:5, batch: 80/150\n",
      "Época: 3:5, batch: 81/150\n",
      "Época: 3:5, batch: 82/150\n",
      "Época: 3:5, batch: 83/150\n",
      "Época: 3:5, batch: 84/150\n",
      "Época: 3:5, batch: 85/150\n",
      "Época: 3:5, batch: 86/150\n",
      "Época: 3:5, batch: 87/150\n",
      "Época: 3:5, batch: 88/150\n",
      "Época: 3:5, batch: 89/150\n",
      "Época: 3:5, batch: 90/150\n",
      "Época: 3:5, batch: 91/150\n",
      "Época: 3:5, batch: 92/150\n",
      "Época: 3:5, batch: 93/150\n",
      "Época: 3:5, batch: 94/150\n",
      "Época: 3:5, batch: 95/150\n",
      "Época: 3:5, batch: 96/150\n",
      "Época: 3:5, batch: 97/150\n",
      "Época: 3:5, batch: 98/150\n",
      "Época: 3:5, batch: 99/150\n",
      "Época: 3:5, batch: 100/150\n",
      "Época: 3:5, batch: 101/150\n",
      "Época: 3:5, batch: 102/150\n",
      "Época: 3:5, batch: 103/150\n",
      "Época: 3:5, batch: 104/150\n",
      "Época: 3:5, batch: 105/150\n",
      "Época: 3:5, batch: 106/150\n",
      "Época: 3:5, batch: 107/150\n",
      "Época: 3:5, batch: 108/150\n",
      "Época: 3:5, batch: 109/150\n",
      "Época: 3:5, batch: 110/150\n",
      "Época: 3:5, batch: 111/150\n",
      "Época: 3:5, batch: 112/150\n",
      "Época: 3:5, batch: 113/150\n",
      "Época: 3:5, batch: 114/150\n",
      "Época: 3:5, batch: 115/150\n",
      "Época: 3:5, batch: 116/150\n",
      "Época: 3:5, batch: 117/150\n",
      "Época: 3:5, batch: 118/150\n",
      "Época: 3:5, batch: 119/150\n",
      "Época: 3:5, batch: 120/150\n",
      "Época: 3:5, batch: 121/150\n",
      "Época: 3:5, batch: 122/150\n",
      "Época: 3:5, batch: 123/150\n",
      "Época: 3:5, batch: 124/150\n",
      "Época: 3:5, batch: 125/150\n",
      "Época: 3:5, batch: 126/150\n",
      "Época: 3:5, batch: 127/150\n",
      "Época: 3:5, batch: 128/150\n",
      "Época: 3:5, batch: 129/150\n",
      "Época: 3:5, batch: 130/150\n",
      "Época: 3:5, batch: 131/150\n",
      "Época: 3:5, batch: 132/150\n",
      "Época: 3:5, batch: 133/150\n",
      "Época: 3:5, batch: 134/150\n",
      "Época: 3:5, batch: 135/150\n",
      "Época: 3:5, batch: 136/150\n",
      "Época: 3:5, batch: 137/150\n",
      "Época: 3:5, batch: 138/150\n",
      "Época: 3:5, batch: 139/150\n",
      "Época: 3:5, batch: 140/150\n",
      "Época: 3:5, batch: 141/150\n",
      "Época: 3:5, batch: 142/150\n",
      "Época: 3:5, batch: 143/150\n",
      "Época: 3:5, batch: 144/150\n",
      "Época: 3:5, batch: 145/150\n",
      "Época: 3:5, batch: 146/150\n",
      "Época: 3:5, batch: 147/150\n",
      "Época: 3:5, batch: 148/150\n",
      "Época: 3:5, batch: 149/150\n",
      "Época: 3:5, batch: 150/150\n",
      "Época: 4:5, batch: 1/150\n",
      "Época: 4:5, batch: 2/150\n",
      "Época: 4:5, batch: 3/150\n",
      "Época: 4:5, batch: 4/150\n",
      "Época: 4:5, batch: 5/150\n",
      "Época: 4:5, batch: 6/150\n",
      "Época: 4:5, batch: 7/150\n",
      "Época: 4:5, batch: 8/150\n",
      "Época: 4:5, batch: 9/150\n",
      "Época: 4:5, batch: 10/150\n",
      "Época: 4:5, batch: 11/150\n",
      "Época: 4:5, batch: 12/150\n",
      "Época: 4:5, batch: 13/150\n",
      "Época: 4:5, batch: 14/150\n",
      "Época: 4:5, batch: 15/150\n",
      "Época: 4:5, batch: 16/150\n",
      "Época: 4:5, batch: 17/150\n",
      "Época: 4:5, batch: 18/150\n",
      "Época: 4:5, batch: 19/150\n",
      "Época: 4:5, batch: 20/150\n",
      "Época: 4:5, batch: 21/150\n",
      "Época: 4:5, batch: 22/150\n",
      "Época: 4:5, batch: 23/150\n",
      "Época: 4:5, batch: 24/150\n",
      "Época: 4:5, batch: 25/150\n",
      "Época: 4:5, batch: 26/150\n",
      "Época: 4:5, batch: 27/150\n",
      "Época: 4:5, batch: 28/150\n",
      "Época: 4:5, batch: 29/150\n",
      "Época: 4:5, batch: 30/150\n",
      "Época: 4:5, batch: 31/150\n",
      "Época: 4:5, batch: 32/150\n",
      "Época: 4:5, batch: 33/150\n",
      "Época: 4:5, batch: 34/150\n",
      "Época: 4:5, batch: 35/150\n",
      "Época: 4:5, batch: 36/150\n",
      "Época: 4:5, batch: 37/150\n",
      "Época: 4:5, batch: 38/150\n",
      "Época: 4:5, batch: 39/150\n",
      "Época: 4:5, batch: 40/150\n",
      "Época: 4:5, batch: 41/150\n",
      "Época: 4:5, batch: 42/150\n",
      "Época: 4:5, batch: 43/150\n",
      "Época: 4:5, batch: 44/150\n",
      "Época: 4:5, batch: 45/150\n",
      "Época: 4:5, batch: 46/150\n",
      "Época: 4:5, batch: 47/150\n",
      "Época: 4:5, batch: 48/150\n",
      "Época: 4:5, batch: 49/150\n",
      "Época: 4:5, batch: 50/150\n",
      "Época: 4:5, batch: 51/150\n",
      "Época: 4:5, batch: 52/150\n",
      "Época: 4:5, batch: 53/150\n",
      "Época: 4:5, batch: 54/150\n",
      "Época: 4:5, batch: 55/150\n",
      "Época: 4:5, batch: 56/150\n",
      "Época: 4:5, batch: 57/150\n",
      "Época: 4:5, batch: 58/150\n",
      "Época: 4:5, batch: 59/150\n",
      "Época: 4:5, batch: 60/150\n",
      "Época: 4:5, batch: 61/150\n",
      "Época: 4:5, batch: 62/150\n",
      "Época: 4:5, batch: 63/150\n",
      "Época: 4:5, batch: 64/150\n",
      "Época: 4:5, batch: 65/150\n",
      "Época: 4:5, batch: 66/150\n",
      "Época: 4:5, batch: 67/150\n",
      "Época: 4:5, batch: 68/150\n",
      "Época: 4:5, batch: 69/150\n",
      "Época: 4:5, batch: 70/150\n",
      "Época: 4:5, batch: 71/150\n",
      "Época: 4:5, batch: 72/150\n",
      "Época: 4:5, batch: 73/150\n",
      "Época: 4:5, batch: 74/150\n",
      "Época: 4:5, batch: 75/150\n",
      "Época: 4:5, batch: 76/150\n",
      "Época: 4:5, batch: 77/150\n",
      "Época: 4:5, batch: 78/150\n",
      "Época: 4:5, batch: 79/150\n",
      "Época: 4:5, batch: 80/150\n",
      "Época: 4:5, batch: 81/150\n",
      "Época: 4:5, batch: 82/150\n",
      "Época: 4:5, batch: 83/150\n",
      "Época: 4:5, batch: 84/150\n",
      "Época: 4:5, batch: 85/150\n",
      "Época: 4:5, batch: 86/150\n",
      "Época: 4:5, batch: 87/150\n",
      "Época: 4:5, batch: 88/150\n",
      "Época: 4:5, batch: 89/150\n",
      "Época: 4:5, batch: 90/150\n",
      "Época: 4:5, batch: 91/150\n",
      "Época: 4:5, batch: 92/150\n",
      "Época: 4:5, batch: 93/150\n",
      "Época: 4:5, batch: 94/150\n",
      "Época: 4:5, batch: 95/150\n",
      "Época: 4:5, batch: 96/150\n",
      "Época: 4:5, batch: 97/150\n",
      "Época: 4:5, batch: 98/150\n",
      "Época: 4:5, batch: 99/150\n",
      "Época: 4:5, batch: 100/150\n",
      "Época: 4:5, batch: 101/150\n",
      "Época: 4:5, batch: 102/150\n",
      "Época: 4:5, batch: 103/150\n",
      "Época: 4:5, batch: 104/150\n",
      "Época: 4:5, batch: 105/150\n",
      "Época: 4:5, batch: 106/150\n",
      "Época: 4:5, batch: 107/150\n",
      "Época: 4:5, batch: 108/150\n",
      "Época: 4:5, batch: 109/150\n",
      "Época: 4:5, batch: 110/150\n",
      "Época: 4:5, batch: 111/150\n",
      "Época: 4:5, batch: 112/150\n",
      "Época: 4:5, batch: 113/150\n",
      "Época: 4:5, batch: 114/150\n",
      "Época: 4:5, batch: 115/150\n",
      "Época: 4:5, batch: 116/150\n",
      "Época: 4:5, batch: 117/150\n",
      "Época: 4:5, batch: 118/150\n",
      "Época: 4:5, batch: 119/150\n",
      "Época: 4:5, batch: 120/150\n",
      "Época: 4:5, batch: 121/150\n",
      "Época: 4:5, batch: 122/150\n",
      "Época: 4:5, batch: 123/150\n",
      "Época: 4:5, batch: 124/150\n",
      "Época: 4:5, batch: 125/150\n",
      "Época: 4:5, batch: 126/150\n",
      "Época: 4:5, batch: 127/150\n",
      "Época: 4:5, batch: 128/150\n",
      "Época: 4:5, batch: 129/150\n",
      "Época: 4:5, batch: 130/150\n",
      "Época: 4:5, batch: 131/150\n",
      "Época: 4:5, batch: 132/150\n",
      "Época: 4:5, batch: 133/150\n",
      "Época: 4:5, batch: 134/150\n",
      "Época: 4:5, batch: 135/150\n",
      "Época: 4:5, batch: 136/150\n",
      "Época: 4:5, batch: 137/150\n",
      "Época: 4:5, batch: 138/150\n",
      "Época: 4:5, batch: 139/150\n",
      "Época: 4:5, batch: 140/150\n",
      "Época: 4:5, batch: 141/150\n",
      "Época: 4:5, batch: 142/150\n",
      "Época: 4:5, batch: 143/150\n",
      "Época: 4:5, batch: 144/150\n",
      "Época: 4:5, batch: 145/150\n",
      "Época: 4:5, batch: 146/150\n",
      "Época: 4:5, batch: 147/150\n",
      "Época: 4:5, batch: 148/150\n",
      "Época: 4:5, batch: 149/150\n",
      "Época: 4:5, batch: 150/150\n",
      "Época: 5:5, batch: 1/150\n",
      "Época: 5:5, batch: 2/150\n",
      "Época: 5:5, batch: 3/150\n",
      "Época: 5:5, batch: 4/150\n",
      "Época: 5:5, batch: 5/150\n",
      "Época: 5:5, batch: 6/150\n",
      "Época: 5:5, batch: 7/150\n",
      "Época: 5:5, batch: 8/150\n",
      "Época: 5:5, batch: 9/150\n",
      "Época: 5:5, batch: 10/150\n",
      "Época: 5:5, batch: 11/150\n",
      "Época: 5:5, batch: 12/150\n",
      "Época: 5:5, batch: 13/150\n",
      "Época: 5:5, batch: 14/150\n",
      "Época: 5:5, batch: 15/150\n",
      "Época: 5:5, batch: 16/150\n",
      "Época: 5:5, batch: 17/150\n",
      "Época: 5:5, batch: 18/150\n",
      "Época: 5:5, batch: 19/150\n",
      "Época: 5:5, batch: 20/150\n",
      "Época: 5:5, batch: 21/150\n",
      "Época: 5:5, batch: 22/150\n",
      "Época: 5:5, batch: 23/150\n",
      "Época: 5:5, batch: 24/150\n",
      "Época: 5:5, batch: 25/150\n",
      "Época: 5:5, batch: 26/150\n",
      "Época: 5:5, batch: 27/150\n",
      "Época: 5:5, batch: 28/150\n",
      "Época: 5:5, batch: 29/150\n",
      "Época: 5:5, batch: 30/150\n",
      "Época: 5:5, batch: 31/150\n",
      "Época: 5:5, batch: 32/150\n",
      "Época: 5:5, batch: 33/150\n",
      "Época: 5:5, batch: 34/150\n",
      "Época: 5:5, batch: 35/150\n",
      "Época: 5:5, batch: 36/150\n",
      "Época: 5:5, batch: 37/150\n",
      "Época: 5:5, batch: 38/150\n",
      "Época: 5:5, batch: 39/150\n",
      "Época: 5:5, batch: 40/150\n",
      "Época: 5:5, batch: 41/150\n",
      "Época: 5:5, batch: 42/150\n",
      "Época: 5:5, batch: 43/150\n",
      "Época: 5:5, batch: 44/150\n",
      "Época: 5:5, batch: 45/150\n",
      "Época: 5:5, batch: 46/150\n",
      "Época: 5:5, batch: 47/150\n",
      "Época: 5:5, batch: 48/150\n",
      "Época: 5:5, batch: 49/150\n",
      "Época: 5:5, batch: 50/150\n",
      "Época: 5:5, batch: 51/150\n",
      "Época: 5:5, batch: 52/150\n",
      "Época: 5:5, batch: 53/150\n",
      "Época: 5:5, batch: 54/150\n",
      "Época: 5:5, batch: 55/150\n",
      "Época: 5:5, batch: 56/150\n",
      "Época: 5:5, batch: 57/150\n",
      "Época: 5:5, batch: 58/150\n",
      "Época: 5:5, batch: 59/150\n",
      "Época: 5:5, batch: 60/150\n",
      "Época: 5:5, batch: 61/150\n",
      "Época: 5:5, batch: 62/150\n",
      "Época: 5:5, batch: 63/150\n",
      "Época: 5:5, batch: 64/150\n",
      "Época: 5:5, batch: 65/150\n",
      "Época: 5:5, batch: 66/150\n",
      "Época: 5:5, batch: 67/150\n",
      "Época: 5:5, batch: 68/150\n",
      "Época: 5:5, batch: 69/150\n",
      "Época: 5:5, batch: 70/150\n",
      "Época: 5:5, batch: 71/150\n",
      "Época: 5:5, batch: 72/150\n",
      "Época: 5:5, batch: 73/150\n",
      "Época: 5:5, batch: 74/150\n",
      "Época: 5:5, batch: 75/150\n",
      "Época: 5:5, batch: 76/150\n",
      "Época: 5:5, batch: 77/150\n",
      "Época: 5:5, batch: 78/150\n",
      "Época: 5:5, batch: 79/150\n",
      "Época: 5:5, batch: 80/150\n",
      "Época: 5:5, batch: 81/150\n",
      "Época: 5:5, batch: 82/150\n",
      "Época: 5:5, batch: 83/150\n",
      "Época: 5:5, batch: 84/150\n",
      "Época: 5:5, batch: 85/150\n",
      "Época: 5:5, batch: 86/150\n",
      "Época: 5:5, batch: 87/150\n",
      "Época: 5:5, batch: 88/150\n",
      "Época: 5:5, batch: 89/150\n",
      "Época: 5:5, batch: 90/150\n",
      "Época: 5:5, batch: 91/150\n",
      "Época: 5:5, batch: 92/150\n",
      "Época: 5:5, batch: 93/150\n",
      "Época: 5:5, batch: 94/150\n",
      "Época: 5:5, batch: 95/150\n",
      "Época: 5:5, batch: 96/150\n",
      "Época: 5:5, batch: 97/150\n",
      "Época: 5:5, batch: 98/150\n",
      "Época: 5:5, batch: 99/150\n",
      "Época: 5:5, batch: 100/150\n",
      "Época: 5:5, batch: 101/150\n",
      "Época: 5:5, batch: 102/150\n",
      "Época: 5:5, batch: 103/150\n",
      "Época: 5:5, batch: 104/150\n",
      "Época: 5:5, batch: 105/150\n",
      "Época: 5:5, batch: 106/150\n",
      "Época: 5:5, batch: 107/150\n",
      "Época: 5:5, batch: 108/150\n",
      "Época: 5:5, batch: 109/150\n",
      "Época: 5:5, batch: 110/150\n",
      "Época: 5:5, batch: 111/150\n",
      "Época: 5:5, batch: 112/150\n",
      "Época: 5:5, batch: 113/150\n",
      "Época: 5:5, batch: 114/150\n",
      "Época: 5:5, batch: 115/150\n",
      "Época: 5:5, batch: 116/150\n",
      "Época: 5:5, batch: 117/150\n",
      "Época: 5:5, batch: 118/150\n",
      "Época: 5:5, batch: 119/150\n",
      "Época: 5:5, batch: 120/150\n",
      "Época: 5:5, batch: 121/150\n",
      "Época: 5:5, batch: 122/150\n",
      "Época: 5:5, batch: 123/150\n",
      "Época: 5:5, batch: 124/150\n",
      "Época: 5:5, batch: 125/150\n",
      "Época: 5:5, batch: 126/150\n",
      "Época: 5:5, batch: 127/150\n",
      "Época: 5:5, batch: 128/150\n",
      "Época: 5:5, batch: 129/150\n",
      "Época: 5:5, batch: 130/150\n",
      "Época: 5:5, batch: 131/150\n",
      "Época: 5:5, batch: 132/150\n",
      "Época: 5:5, batch: 133/150\n",
      "Época: 5:5, batch: 134/150\n",
      "Época: 5:5, batch: 135/150\n",
      "Época: 5:5, batch: 136/150\n",
      "Época: 5:5, batch: 137/150\n",
      "Época: 5:5, batch: 138/150\n",
      "Época: 5:5, batch: 139/150\n",
      "Época: 5:5, batch: 140/150\n",
      "Época: 5:5, batch: 141/150\n",
      "Época: 5:5, batch: 142/150\n",
      "Época: 5:5, batch: 143/150\n",
      "Época: 5:5, batch: 144/150\n",
      "Época: 5:5, batch: 145/150\n",
      "Época: 5:5, batch: 146/150\n",
      "Época: 5:5, batch: 147/150\n",
      "Época: 5:5, batch: 148/150\n",
      "Época: 5:5, batch: 149/150\n",
      "Época: 5:5, batch: 150/150\n"
     ]
    }
   ],
   "source": [
    "epochs = []\n",
    "losses = []\n",
    "\n",
    "total_trained_samples = 0\n",
    "for i in range(n_epochs):\n",
    "    for k,(x_train, y_train) in enumerate(loader_train):\n",
    "        # Transforma a entrada para uma dimensão\n",
    "        inputs = Variable(x_train.view(-1, 28 * 28))\n",
    "        # predict da rede\n",
    "        outputs = model(inputs)\n",
    "\n",
    "        # calcula a perda\n",
    "        loss = criterion(outputs, Variable(y_train))\n",
    "\n",
    "        # zero, backpropagation, ajusta parâmetros pelo gradiente descendente\n",
    "        optimizer.zero_grad()\n",
    "        loss.backward()\n",
    "        optimizer.step()\n",
    "\n",
    "        total_trained_samples += x_train.size(0)\n",
    "        epochs.append(total_trained_samples / total_samples)\n",
    "        losses.append(loss.data)\n",
    "\n",
    "        print(f'Época: {i+1}:{n_epochs}, batch: {k+1}/{len(loader_train)}')"
   ]
  },
  {
   "cell_type": "code",
   "execution_count": 9,
   "metadata": {
    "ExecuteTime": {
     "end_time": "2017-11-24T22:39:50.992302Z",
     "start_time": "2017-11-24T22:39:50.987284Z"
    },
    "colab": {
     "base_uri": "https://localhost:8080/"
    },
    "id": "aYO4bgVwl-fT",
    "outputId": "393ad6d6-4d5f-4b51-c96c-3413b48784ad"
   },
   "outputs": [
    {
     "name": "stdout",
     "output_type": "stream",
     "text": [
      "Final loss: tensor(0.2633)\n"
     ]
    }
   ],
   "source": [
    "print('Final loss:', loss.data)"
   ]
  },
  {
   "cell_type": "markdown",
   "metadata": {
    "id": "XEhPdkjAl-fX"
   },
   "source": [
    "### Visualizando gráfico de perda durante o treinamento"
   ]
  },
  {
   "cell_type": "code",
   "execution_count": 10,
   "metadata": {
    "ExecuteTime": {
     "end_time": "2017-11-24T22:39:51.244869Z",
     "start_time": "2017-11-24T22:39:50.995188Z"
    },
    "colab": {
     "base_uri": "https://localhost:8080/",
     "height": 467
    },
    "id": "_fSYP_KXl-fY",
    "outputId": "19e8a3d2-6ba6-4e5d-aab2-fcb264cbf81b"
   },
   "outputs": [
    {
     "data": {
      "text/plain": [
       "Text(0.5, 0, 'época')"
      ]
     },
     "execution_count": 10,
     "metadata": {},
     "output_type": "execute_result"
    },
    {
     "data": {
      "image/png": "[encoded data removed]",
      "text/plain": [
       "<Figure size 640x480 with 1 Axes>"
      ]
     },
     "metadata": {},
     "output_type": "display_data"
    }
   ],
   "source": [
    "plt.plot(epochs, losses)\n",
    "plt.xlabel('época')"
   ]
  },
  {
   "cell_type": "markdown",
   "metadata": {
    "id": "eNyGHxAtl-fc"
   },
   "source": [
    "### Visualização usual da perda, somente no final de cada minibatch"
   ]
  },
  {
   "cell_type": "code",
   "execution_count": 11,
   "metadata": {
    "ExecuteTime": {
     "end_time": "2017-11-24T22:39:51.498640Z",
     "start_time": "2017-11-24T22:39:51.246714Z"
    },
    "colab": {
     "base_uri": "https://localhost:8080/",
     "height": 467
    },
    "id": "e2J2aZZVl-fd",
    "outputId": "d6128cca-94bc-4af9-9a59-67459f19732d"
   },
   "outputs": [
    {
     "data": {
      "text/plain": [
       "Text(0.5, 0, 'época')"
      ]
     },
     "execution_count": 11,
     "metadata": {},
     "output_type": "execute_result"
    },
    {
     "data": {
      "image/png": "[encoded data removed]",
      "text/plain": [
       "<Figure size 640x480 with 1 Axes>"
      ]
     },
     "metadata": {},
     "output_type": "display_data"
    }
   ],
   "source": [
    "plt.plot(epochs[:5 * n_batches_train +1:n_batches_train], losses[:5 * n_batches_train+1:n_batches_train])\n",
    "plt.xlabel('época')"
   ]
  },
  {
   "cell_type": "markdown",
   "metadata": {
    "id": "eHLCXNLml-fg"
   },
   "source": [
    "# Atividades"
   ]
  },
  {
   "cell_type": "markdown",
   "metadata": {
    "id": "ZCs38MOml-fh"
   },
   "source": [
    "## Perguntas"
   ]
  },
  {
   "cell_type": "markdown",
   "metadata": {
    "id": "Ffg58gb7l-fi"
   },
   "source": [
    "1. Qual é o tamanho do mini-batch?\n",
    "> 100 amostras.\n",
    "\n",
    "2. Em uma época, quantos mini-batches existem? \n",
    "> 100 em cada epoch.\n",
    "\n",
    "3. Qual é a definição de época? \n",
    "> É a quantidade de iterações necessárias para o modelo percorrer meu dataset"
   ]
  },
  {
   "cell_type": "markdown",
   "metadata": {
    "id": "DourBpfrl-fl"
   },
   "source": [
    "## Exercícios\n"
   ]
  },
  {
   "cell_type": "markdown",
   "metadata": {
    "id": "Vjh3AaNpl-fn"
   },
   "source": [
    "1. Coloque um print no final de cada minibatch, no mesmo estilo do print do final de época, no seguinte estilo:\n",
    "    - Época: 1/4, batch: 600\n",
    "\n",
    "2. Altere o tamanho de minibatch (batch_size) algumas vezes, refaça o treinamento, e compare no gráfico abaixo a queda da perda para cada tamanho de minibatch.\n",
    "\n",
    "> Conforme eu aumento o tamanho dos minibatches, o modelo tende a apresentar um menor ruído e convergir para uma perda menor após dado número de epochs. QUanndo uso batch sizes muito pequenos, ele apresenta uma perda mais alta!"
   ]
  },
  {
   "cell_type": "markdown",
   "metadata": {
    "id": "Dite8MBJl-fn"
   },
   "source": [
    "## Conclusões sobre os experimentos deste notebook\n"
   ]
  }
 ],
 "metadata": {
  "accelerator": "TPU",
  "colab": {
   "name": "3.4-LogisticRegressionMNIST-SGD.ipynb",
   "provenance": []
  },
  "kernelspec": {
   "display_name": "Python 3",
   "language": "python",
   "name": "python3"
  },
  "language_info": {
   "codemirror_mode": {
    "name": "ipython",
    "version": 3
   },
   "file_extension": ".py",
   "mimetype": "text/x-python",
   "name": "python",
   "nbconvert_exporter": "python",
   "pygments_lexer": "ipython3",
   "version": "3.12.0"
  }
 },
 "nbformat": 4,
 "nbformat_minor": 0
}
