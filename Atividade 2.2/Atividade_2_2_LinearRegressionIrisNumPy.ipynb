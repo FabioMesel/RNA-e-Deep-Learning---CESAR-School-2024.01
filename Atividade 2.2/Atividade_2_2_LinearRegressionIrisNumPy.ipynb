{
 "cells": [
  {
   "cell_type": "markdown",
   "metadata": {
    "colab_type": "text",
    "id": "view-in-github"
   },
   "source": [
    "<a href=\"https://colab.research.google.com/github/renatampr/RNA-e-Deep-Learning---CESAR-School-2024.01/blob/main/RENATA_ATIV_2_2_LinearRegressionIrisNumPy.ipynb\" target=\"_parent\"><img src=\"https://colab.research.google.com/assets/colab-badge.svg\" alt=\"Open In Colab\"/></a>"
   ]
  },
  {
   "cell_type": "markdown",
   "metadata": {
    "id": "5yQgzdjbf9RT"
   },
   "source": [
    "# Regressão Linear com NumPy"
   ]
  },
  {
   "cell_type": "markdown",
   "metadata": {
    "heading_collapsed": true,
    "id": "p5HfrYM3f9RU"
   },
   "source": [
    "## Objetivos deste experimento"
   ]
  },
  {
   "cell_type": "markdown",
   "metadata": {
    "hidden": true,
    "id": "IIYC2db7f9RW"
   },
   "source": [
    "Este exemplo utiliza regressão linear para estimar o comprimento das sépalas da íris a partir do seu comprimento das pétalas.\n",
    "Utiliza-se programação totalmente NumPy com:\n",
    "- o **cálculo do gradiente**,\n",
    "- a **função de perda** e\n",
    "- a atualização dos parâmetros são feitos de forma explícita.\n",
    "- A rede é criada com uma camada como uma classe"
   ]
  },
  {
   "cell_type": "markdown",
   "metadata": {
    "hidden": true,
    "id": "ImJOZIiNf9RW"
   },
   "source": [
    "![alt text](https://raw.githubusercontent.com/vcasadei/images/master/RegressaoLinear_Otimizacao.png)"
   ]
  },
  {
   "cell_type": "markdown",
   "metadata": {
    "heading_collapsed": true,
    "id": "EeTHWCuMf9RX"
   },
   "source": [
    "## Importação dos pacotes"
   ]
  },
  {
   "cell_type": "code",
   "execution_count": 2,
   "metadata": {
    "ExecuteTime": {
     "end_time": "2017-10-08T11:19:38.728936Z",
     "start_time": "2017-10-08T11:19:36.888541Z"
    },
    "hidden": true,
    "id": "5yPytaCLf9RY"
   },
   "outputs": [],
   "source": [
    "%matplotlib inline\n",
    "import matplotlib.pyplot as plt   # para plotting\n",
    "\n",
    "from sklearn.datasets import load_iris  # para carregar dataset\n",
    "\n",
    "import numpy as np  # processamento matricial\n",
    "\n",
    "np.random.seed(1234)"
   ]
  },
  {
   "cell_type": "markdown",
   "metadata": {
    "heading_collapsed": true,
    "id": "wDkSLSnmf9Rc"
   },
   "source": [
    "## Dataset"
   ]
  },
  {
   "cell_type": "markdown",
   "metadata": {
    "heading_collapsed": true,
    "hidden": true,
    "id": "ldcOnrBvf9Rd"
   },
   "source": [
    "### Leitura dos dados"
   ]
  },
  {
   "cell_type": "code",
   "execution_count": 3,
   "metadata": {
    "ExecuteTime": {
     "end_time": "2017-10-08T11:19:38.747769Z",
     "start_time": "2017-10-08T11:19:38.730907Z"
    },
    "colab": {
     "base_uri": "https://localhost:8080/"
    },
    "hidden": true,
    "id": "l3t1qaa0f9Re",
    "outputId": "17332c48-0c92-4957-8386-7c147ad97ec3"
   },
   "outputs": [
    {
     "name": "stdout",
     "output_type": "stream",
     "text": [
      "x_train.shape: (50, 1) float64\n",
      "y_train.shape: (50, 1) float64\n",
      "x_train[:5]:\n",
      " [[7. ]\n",
      " [6.4]\n",
      " [6.9]\n",
      " [5.5]\n",
      " [6.5]]\n",
      "y_train[:5]:\n",
      " [[4.7]\n",
      " [4.5]\n",
      " [4.9]\n",
      " [4. ]\n",
      " [4.6]]\n"
     ]
    }
   ],
   "source": [
    "iris = load_iris()\n",
    "data = iris.data[iris.target==1,::2]  # comprimento das sépalas e pétalas, indices 0 e 2\n",
    "\n",
    "x_train = data[:,0:1]\n",
    "y_train = data[:,1:2]\n",
    "\n",
    "n_samples = x_train.shape[0]\n",
    "print('x_train.shape:',x_train.shape, x_train.dtype)\n",
    "print('y_train.shape:',y_train.shape, y_train.dtype)\n",
    "\n",
    "print('x_train[:5]:\\n', x_train[:5])\n",
    "print('y_train[:5]:\\n', y_train[:5])"
   ]
  },
  {
   "cell_type": "markdown",
   "metadata": {
    "hidden": true,
    "id": "aPQ-L6FVf9Rk"
   },
   "source": [
    "### Normalização dos dados"
   ]
  },
  {
   "cell_type": "code",
   "execution_count": 4,
   "metadata": {
    "ExecuteTime": {
     "end_time": "2017-10-08T11:19:38.756343Z",
     "start_time": "2017-10-08T11:19:38.750395Z"
    },
    "hidden": true,
    "id": "POM323GEf9Rl"
   },
   "outputs": [],
   "source": [
    "x_train -= x_train.min()\n",
    "x_train /= x_train.max()\n",
    "y_train -= y_train.min()\n",
    "y_train /= y_train.max()"
   ]
  },
  {
   "cell_type": "code",
   "execution_count": 5,
   "metadata": {
    "ExecuteTime": {
     "end_time": "2017-10-08T11:19:39.127199Z",
     "start_time": "2017-10-08T11:19:38.759104Z"
    },
    "colab": {
     "base_uri": "https://localhost:8080/",
     "height": 466
    },
    "hidden": true,
    "id": "dx5AO9Qxf9Rn",
    "outputId": "14c5b968-8dfc-46da-f630-f6c2aede22ee"
   },
   "outputs": [
    {
     "data": {
      "text/plain": [
       "Text(0, 0.5, 'Comprimento petalas')"
      ]
     },
     "execution_count": 5,
     "metadata": {},
     "output_type": "execute_result"
    },
    {
     "data": {
      "image/png": "[encoded data removed]",
      "text/plain": [
       "<Figure size 640x480 with 1 Axes>"
      ]
     },
     "metadata": {},
     "output_type": "display_data"
    }
   ],
   "source": [
    "plt.scatter(x_train,y_train)\n",
    "plt.xlabel('Comprimento sepalas')\n",
    "plt.ylabel('Comprimento petalas')"
   ]
  },
  {
   "cell_type": "markdown",
   "metadata": {
    "heading_collapsed": true,
    "id": "poW81teqf9Rr"
   },
   "source": [
    "## Modelo da rede"
   ]
  },
  {
   "cell_type": "markdown",
   "metadata": {
    "hidden": true,
    "id": "QXFLlJ0_f9Rt"
   },
   "source": [
    "### Reta de ajuste"
   ]
  },
  {
   "cell_type": "markdown",
   "metadata": {
    "hidden": true,
    "id": "s7JuPXysf9Rt"
   },
   "source": [
    "A equação da reta no plano necessita de dois parâmetros, aqui denominados $w_0$ (*bias*) e inclinação $w_1$. Veja figura:\n",
    "\n",
    "![alt text](https://raw.githubusercontent.com/vcasadei/images/master/linhareta.png)\n",
    "\n",
    "A reta de ajuste será dada por:\n",
    "\n",
    "$$ \\hat{y} = w_0 + w_1 x $$\n",
    "\n",
    "onde\n",
    "* $w_1$ é o coeficiente angular da reta e\n",
    "* $w_0$ é a interseção do eixo vertical quando x é igual a zero, também denominado de *bias*.\n",
    "* $x$ é a variável de entrada (comprimento das sépalas) e\n",
    "* $\\hat{y}$ é a predição (comprimento estimado das pétalas)."
   ]
  },
  {
   "cell_type": "markdown",
   "metadata": {
    "hidden": true,
    "id": "hwin_xPff9Ru"
   },
   "source": [
    "### Linear Regression Model"
   ]
  },
  {
   "cell_type": "markdown",
   "metadata": {
    "hidden": true,
    "id": "c7ilOLnkf9Rw"
   },
   "source": [
    "![alt text](https://raw.githubusercontent.com/vcasadei/images/master/RegressaoLinearNeuronio.png)"
   ]
  },
  {
   "cell_type": "markdown",
   "metadata": {
    "hidden": true,
    "id": "H0CzMB91f9Rx"
   },
   "source": [
    "### Formulação matricial do neurônio"
   ]
  },
  {
   "cell_type": "markdown",
   "metadata": {
    "hidden": true,
    "id": "-wWz_wpYf9Ry"
   },
   "source": [
    "* $\\mathbf{w} = [w_0 \\ w_1]$ é vetor linha de parâmetros e\n",
    "* $\\mathbf{x} = [1 \\ x_0] $ é vetor linha de uma amostra (com *bias*).\n",
    "\n",
    "$$ \\hat{y} = 1 w_0 + x_0 w_1 $$\n",
    "\n",
    "$$ [\\hat{y}] = [1 \\ x_0] \\begin{bmatrix} w_0 \\\\ w_1 \\end{bmatrix} $$\n",
    "\n",
    "$$ \\mathbf{\\hat{y}} = \\mathbf{x} \\mathbf{w^T} $$"
   ]
  },
  {
   "cell_type": "markdown",
   "metadata": {
    "hidden": true,
    "id": "rQ1lc-dYf9Rz"
   },
   "source": [
    "### Fazendo o predict de várias amostras"
   ]
  },
  {
   "cell_type": "markdown",
   "metadata": {
    "hidden": true,
    "id": "fh068Clrf9R0"
   },
   "source": [
    "$$ \\begin{matrix}\n",
    "\\begin{bmatrix}\n",
    "\\hat{y}_0\\\\\n",
    "\\hat{y}_1\\\\\n",
    "\\\\\n",
    "\\hat{y}_{M-1}\n",
    "\\end{bmatrix} &=& \\begin{bmatrix}\n",
    "1 & x_0 \\\\\n",
    "1 & x_1\\\\\n",
    "\\\\\n",
    "1 & x_{M-1} \\\\\n",
    "\\end{bmatrix}\n",
    "&\n",
    "\\begin{bmatrix}\n",
    "w_0\\\\\n",
    "w_1\n",
    "\\end{bmatrix} \\\\\n",
    "(M,1) & & (M,2) & (2,1) \\\\\n",
    "\\end{matrix} $$"
   ]
  },
  {
   "cell_type": "markdown",
   "metadata": {
    "hidden": true,
    "id": "jjSchAsZf9R2"
   },
   "source": [
    "### Preenchendo x com coluna de 1's para bias"
   ]
  },
  {
   "cell_type": "code",
   "execution_count": 6,
   "metadata": {
    "ExecuteTime": {
     "end_time": "2017-10-08T11:19:39.135089Z",
     "start_time": "2017-10-08T11:19:39.129385Z"
    },
    "hidden": true,
    "id": "plZEY5-tf9R2"
   },
   "outputs": [],
   "source": [
    "x_train_bias = np.hstack([np.ones(shape=(n_samples,1)), x_train])"
   ]
  },
  {
   "cell_type": "code",
   "execution_count": 7,
   "metadata": {
    "colab": {
     "base_uri": "https://localhost:8080/"
    },
    "id": "tXYx3JdMf9R6",
    "outputId": "caf6da60-0a02-43ad-c625-3e0cd112b57d"
   },
   "outputs": [
    {
     "data": {
      "text/plain": [
       "array([[1.        , 1.        ],\n",
       "       [1.        , 0.71428571],\n",
       "       [1.        , 0.95238095],\n",
       "       [1.        , 0.28571429],\n",
       "       [1.        , 0.76190476],\n",
       "       [1.        , 0.38095238],\n",
       "       [1.        , 0.66666667],\n",
       "       [1.        , 0.        ],\n",
       "       [1.        , 0.80952381],\n",
       "       [1.        , 0.14285714],\n",
       "       [1.        , 0.04761905],\n",
       "       [1.        , 0.47619048],\n",
       "       [1.        , 0.52380952],\n",
       "       [1.        , 0.57142857],\n",
       "       [1.        , 0.33333333],\n",
       "       [1.        , 0.85714286],\n",
       "       [1.        , 0.33333333],\n",
       "       [1.        , 0.42857143],\n",
       "       [1.        , 0.61904762],\n",
       "       [1.        , 0.33333333],\n",
       "       [1.        , 0.47619048],\n",
       "       [1.        , 0.57142857],\n",
       "       [1.        , 0.66666667],\n",
       "       [1.        , 0.57142857],\n",
       "       [1.        , 0.71428571],\n",
       "       [1.        , 0.80952381],\n",
       "       [1.        , 0.9047619 ],\n",
       "       [1.        , 0.85714286],\n",
       "       [1.        , 0.52380952],\n",
       "       [1.        , 0.38095238],\n",
       "       [1.        , 0.28571429],\n",
       "       [1.        , 0.28571429],\n",
       "       [1.        , 0.42857143],\n",
       "       [1.        , 0.52380952],\n",
       "       [1.        , 0.23809524],\n",
       "       [1.        , 0.52380952],\n",
       "       [1.        , 0.85714286],\n",
       "       [1.        , 0.66666667],\n",
       "       [1.        , 0.33333333],\n",
       "       [1.        , 0.28571429],\n",
       "       [1.        , 0.28571429],\n",
       "       [1.        , 0.57142857],\n",
       "       [1.        , 0.42857143],\n",
       "       [1.        , 0.04761905],\n",
       "       [1.        , 0.33333333],\n",
       "       [1.        , 0.38095238],\n",
       "       [1.        , 0.38095238],\n",
       "       [1.        , 0.61904762],\n",
       "       [1.        , 0.0952381 ],\n",
       "       [1.        , 0.38095238]])"
      ]
     },
     "execution_count": 7,
     "metadata": {},
     "output_type": "execute_result"
    }
   ],
   "source": [
    "x_train_bias"
   ]
  },
  {
   "cell_type": "markdown",
   "metadata": {
    "hidden": true,
    "id": "GOtS_8OSf9SC"
   },
   "source": [
    "### Classe com o modelo da rede"
   ]
  },
  {
   "cell_type": "code",
   "execution_count": 8,
   "metadata": {
    "ExecuteTime": {
     "end_time": "2017-10-08T11:19:39.143879Z",
     "start_time": "2017-10-08T11:19:39.137134Z"
    },
    "hidden": true,
    "id": "aKLVIQUtf9SD"
   },
   "outputs": [],
   "source": [
    "class Net():\n",
    "    def __init__(self, n_in, n_out):\n",
    "        self.w = np.random.uniform(-0.1,0.1,(n_out,n_in)) #inicialização dos parâmetros\n",
    "\n",
    "    def forward(self, x_bias):\n",
    "        return x_bias.dot(self.w.T)"
   ]
  },
  {
   "cell_type": "markdown",
   "metadata": {
    "hidden": true,
    "id": "0j0hN9l_f9SH"
   },
   "source": [
    "### Criando a rede, instanciando o objeto model"
   ]
  },
  {
   "cell_type": "code",
   "execution_count": 9,
   "metadata": {
    "ExecuteTime": {
     "end_time": "2017-10-08T11:19:39.151717Z",
     "start_time": "2017-10-08T11:19:39.146858Z"
    },
    "hidden": true,
    "id": "5o5Zkqn5f9SI"
   },
   "outputs": [],
   "source": [
    "model = Net(2,1) # duas entradas (1 + x0) e uma saída y_pred"
   ]
  },
  {
   "cell_type": "code",
   "execution_count": 10,
   "metadata": {
    "colab": {
     "base_uri": "https://localhost:8080/"
    },
    "id": "nNXE-nHRF5XI",
    "outputId": "e1ec02c5-e225-469b-e06b-a1d72eed2b4e"
   },
   "outputs": [
    {
     "data": {
      "text/plain": [
       "array([[-0.06169611,  0.02442175]])"
      ]
     },
     "execution_count": 10,
     "metadata": {},
     "output_type": "execute_result"
    }
   ],
   "source": [
    "model.w"
   ]
  },
  {
   "cell_type": "markdown",
   "metadata": {
    "hidden": true,
    "id": "F3yolUOGf9SL"
   },
   "source": [
    "### Testando o predict da rede (mesmo sem treiná-la)"
   ]
  },
  {
   "cell_type": "code",
   "execution_count": 11,
   "metadata": {
    "colab": {
     "base_uri": "https://localhost:8080/"
    },
    "id": "C-oYiF_yGR3l",
    "outputId": "4e1588f9-3b1d-4bcf-e5be-be5c0a145907"
   },
   "outputs": [
    {
     "data": {
      "text/plain": [
       "array([[ 1.43270697, -0.3126519 ],\n",
       "       [-0.72058873,  0.88716294],\n",
       "       [ 0.85958841, -0.6365235 ],\n",
       "       [ 0.01569637, -2.24268495]])"
      ]
     },
     "execution_count": 11,
     "metadata": {},
     "output_type": "execute_result"
    }
   ],
   "source": [
    "np.random.randn(4,2)"
   ]
  },
  {
   "cell_type": "code",
   "execution_count": 12,
   "metadata": {
    "ExecuteTime": {
     "end_time": "2017-10-08T11:19:39.162189Z",
     "start_time": "2017-10-08T11:19:39.156018Z"
    },
    "colab": {
     "base_uri": "https://localhost:8080/"
    },
    "hidden": true,
    "id": "BzkEurfof9SN",
    "outputId": "0ded58ef-1bf2-4780-f6fd-7d6f7a37651c"
   },
   "outputs": [
    {
     "data": {
      "text/plain": [
       "array([[-0.04672767],\n",
       "       [-0.10817898],\n",
       "       [ 0.02066301],\n",
       "       [-0.01795477]])"
      ]
     },
     "execution_count": 12,
     "metadata": {},
     "output_type": "execute_result"
    }
   ],
   "source": [
    "xin = np.random.randn(4,2) # 4 amostras, 2 entradas (1 + x0)\n",
    "ypred = model.forward(xin)\n",
    "ypred"
   ]
  },
  {
   "cell_type": "code",
   "execution_count": 13,
   "metadata": {
    "colab": {
     "base_uri": "https://localhost:8080/"
    },
    "id": "46iGntusGegv",
    "outputId": "66fb707f-a68d-4cd0-a75e-74d9cb1941c6"
   },
   "outputs": [
    {
     "data": {
      "text/plain": [
       "array([[-0.03727436],\n",
       "       [-0.044252  ],\n",
       "       [-0.0384373 ],\n",
       "       [-0.05471847],\n",
       "       [-0.04308906],\n",
       "       [-0.05239258],\n",
       "       [-0.04541494],\n",
       "       [-0.06169611],\n",
       "       [-0.04192612],\n",
       "       [-0.05820729],\n",
       "       [-0.06053317],\n",
       "       [-0.0500667 ],\n",
       "       [-0.04890376],\n",
       "       [-0.04774082],\n",
       "       [-0.05355553],\n",
       "       [-0.04076318],\n",
       "       [-0.05355553],\n",
       "       [-0.05122964],\n",
       "       [-0.04657788],\n",
       "       [-0.05355553],\n",
       "       [-0.0500667 ],\n",
       "       [-0.04774082],\n",
       "       [-0.04541494],\n",
       "       [-0.04774082],\n",
       "       [-0.044252  ],\n",
       "       [-0.04192612],\n",
       "       [-0.03960024],\n",
       "       [-0.04076318],\n",
       "       [-0.04890376],\n",
       "       [-0.05239258],\n",
       "       [-0.05471847],\n",
       "       [-0.05471847],\n",
       "       [-0.05122964],\n",
       "       [-0.04890376],\n",
       "       [-0.05588141],\n",
       "       [-0.04890376],\n",
       "       [-0.04076318],\n",
       "       [-0.04541494],\n",
       "       [-0.05355553],\n",
       "       [-0.05471847],\n",
       "       [-0.05471847],\n",
       "       [-0.04774082],\n",
       "       [-0.05122964],\n",
       "       [-0.06053317],\n",
       "       [-0.05355553],\n",
       "       [-0.05239258],\n",
       "       [-0.05239258],\n",
       "       [-0.04657788],\n",
       "       [-0.05937023],\n",
       "       [-0.05239258]])"
      ]
     },
     "execution_count": 13,
     "metadata": {},
     "output_type": "execute_result"
    }
   ],
   "source": [
    "ypred = model.forward(x_train_bias)\n",
    "ypred"
   ]
  },
  {
   "cell_type": "markdown",
   "metadata": {
    "heading_collapsed": true,
    "id": "edoSiy--f9SS"
   },
   "source": [
    "## Treinamento via gradiente descendente"
   ]
  },
  {
   "cell_type": "markdown",
   "metadata": {
    "hidden": true,
    "id": "SnkXXFref9ST"
   },
   "source": [
    "Função de perda:\n",
    "$$ J(\\hat{y_i},y_i) = \\frac{1}{M} \\sum_{i=0}^{M-1} (\\hat{y_i} - y_i)^2 $$"
   ]
  },
  {
   "cell_type": "markdown",
   "metadata": {
    "ExecuteTime": {
     "end_time": "2017-10-05T14:05:06.244776",
     "start_time": "2017-10-05T14:05:06.240743"
    },
    "hidden": true,
    "id": "6W5QcPwUf9SU"
   },
   "source": [
    "Gradiente:\n",
    "$$  \\mathbf{\\nabla{J_w}} = \\frac{2}{M}\\mathbf{x^T}(\\mathbf{x w^T} - \\mathbf{y}) $$"
   ]
  },
  {
   "cell_type": "markdown",
   "metadata": {
    "ExecuteTime": {
     "end_time": "2017-10-05T14:06:17.929718",
     "start_time": "2017-10-05T14:06:17.925519"
    },
    "hidden": true,
    "id": "6OoQuuvAf9SU"
   },
   "source": [
    "Atualização dos parâmetros pelo gradiente descendente:\n",
    "$$ \\mathbf{w} = \\mathbf{w} − \\eta (\\mathbf{\\nabla J_w})^T $$"
   ]
  },
  {
   "cell_type": "markdown",
   "metadata": {
    "hidden": true,
    "id": "YM0fEnAdf9SW"
   },
   "source": [
    "### Laço de treinamento"
   ]
  },
  {
   "cell_type": "code",
   "execution_count": 16,
   "metadata": {
    "ExecuteTime": {
     "end_time": "2017-10-08T11:19:39.183784Z",
     "start_time": "2017-10-08T11:19:39.165347Z"
    },
    "colab": {
     "base_uri": "https://localhost:8080/"
    },
    "hidden": true,
    "id": "BiCGgqp6f9SX",
    "outputId": "73b5676d-a0c4-44d5-9c6b-290ee5f94661",
    "scrolled": false
   },
   "outputs": [
    {
     "name": "stdout",
     "output_type": "stream",
     "text": [
      "Epoch[1/100], loss: 0.021169\n",
      "Epoch[2/100], loss: 0.021169\n",
      "Epoch[3/100], loss: 0.021169\n",
      "Epoch[4/100], loss: 0.021169\n",
      "Epoch[5/100], loss: 0.021169\n",
      "Epoch[6/100], loss: 0.021169\n",
      "Epoch[7/100], loss: 0.021169\n",
      "Epoch[8/100], loss: 0.021169\n",
      "Epoch[9/100], loss: 0.021169\n",
      "Epoch[10/100], loss: 0.021169\n",
      "Epoch[11/100], loss: 0.021169\n",
      "Epoch[12/100], loss: 0.021169\n",
      "Epoch[13/100], loss: 0.021169\n",
      "Epoch[14/100], loss: 0.021169\n",
      "Epoch[15/100], loss: 0.021169\n",
      "Epoch[16/100], loss: 0.021169\n",
      "Epoch[17/100], loss: 0.021169\n",
      "Epoch[18/100], loss: 0.021169\n",
      "Epoch[19/100], loss: 0.021169\n",
      "Epoch[20/100], loss: 0.021169\n",
      "Epoch[21/100], loss: 0.021169\n",
      "Epoch[22/100], loss: 0.021169\n",
      "Epoch[23/100], loss: 0.021169\n",
      "Epoch[24/100], loss: 0.021169\n",
      "Epoch[25/100], loss: 0.021169\n",
      "Epoch[26/100], loss: 0.021169\n",
      "Epoch[27/100], loss: 0.021169\n",
      "Epoch[28/100], loss: 0.021169\n",
      "Epoch[29/100], loss: 0.021169\n",
      "Epoch[30/100], loss: 0.021169\n",
      "Epoch[31/100], loss: 0.021169\n",
      "Epoch[32/100], loss: 0.021169\n",
      "Epoch[33/100], loss: 0.021169\n",
      "Epoch[34/100], loss: 0.021169\n",
      "Epoch[35/100], loss: 0.021169\n",
      "Epoch[36/100], loss: 0.021169\n",
      "Epoch[37/100], loss: 0.021169\n",
      "Epoch[38/100], loss: 0.021169\n",
      "Epoch[39/100], loss: 0.021169\n",
      "Epoch[40/100], loss: 0.021169\n",
      "Epoch[41/100], loss: 0.021169\n",
      "Epoch[42/100], loss: 0.021169\n",
      "Epoch[43/100], loss: 0.021169\n",
      "Epoch[44/100], loss: 0.021169\n",
      "Epoch[45/100], loss: 0.021169\n",
      "Epoch[46/100], loss: 0.021169\n",
      "Epoch[47/100], loss: 0.021169\n",
      "Epoch[48/100], loss: 0.021169\n",
      "Epoch[49/100], loss: 0.021169\n",
      "Epoch[50/100], loss: 0.021169\n",
      "Epoch[51/100], loss: 0.021169\n",
      "Epoch[52/100], loss: 0.021169\n",
      "Epoch[53/100], loss: 0.021169\n",
      "Epoch[54/100], loss: 0.021169\n",
      "Epoch[55/100], loss: 0.021169\n",
      "Epoch[56/100], loss: 0.021169\n",
      "Epoch[57/100], loss: 0.021169\n",
      "Epoch[58/100], loss: 0.021169\n",
      "Epoch[59/100], loss: 0.021169\n",
      "Epoch[60/100], loss: 0.021169\n",
      "Epoch[61/100], loss: 0.021169\n",
      "Epoch[62/100], loss: 0.021169\n",
      "Epoch[63/100], loss: 0.021169\n",
      "Epoch[64/100], loss: 0.021169\n",
      "Epoch[65/100], loss: 0.021169\n",
      "Epoch[66/100], loss: 0.021169\n",
      "Epoch[67/100], loss: 0.021169\n",
      "Epoch[68/100], loss: 0.021169\n",
      "Epoch[69/100], loss: 0.021169\n",
      "Epoch[70/100], loss: 0.021169\n",
      "Epoch[71/100], loss: 0.021169\n",
      "Epoch[72/100], loss: 0.021169\n",
      "Epoch[73/100], loss: 0.021169\n",
      "Epoch[74/100], loss: 0.021169\n",
      "Epoch[75/100], loss: 0.021169\n",
      "Epoch[76/100], loss: 0.021169\n",
      "Epoch[77/100], loss: 0.021169\n",
      "Epoch[78/100], loss: 0.021169\n",
      "Epoch[79/100], loss: 0.021169\n",
      "Epoch[80/100], loss: 0.021169\n",
      "Epoch[81/100], loss: 0.021169\n",
      "Epoch[82/100], loss: 0.021169\n",
      "Epoch[83/100], loss: 0.021169\n",
      "Epoch[84/100], loss: 0.021169\n",
      "Epoch[85/100], loss: 0.021169\n",
      "Epoch[86/100], loss: 0.021169\n",
      "Epoch[87/100], loss: 0.021169\n",
      "Epoch[88/100], loss: 0.021169\n",
      "Epoch[89/100], loss: 0.021169\n",
      "Epoch[90/100], loss: 0.021169\n",
      "Epoch[91/100], loss: 0.021169\n",
      "Epoch[92/100], loss: 0.021169\n",
      "Epoch[93/100], loss: 0.021169\n",
      "Epoch[94/100], loss: 0.021169\n",
      "Epoch[95/100], loss: 0.021169\n",
      "Epoch[96/100], loss: 0.021169\n",
      "Epoch[97/100], loss: 0.021169\n",
      "Epoch[98/100], loss: 0.021169\n",
      "Epoch[99/100], loss: 0.021169\n",
      "Epoch[100/100], loss: 0.021169\n",
      "[0.02116942415600105, 0.021169424152602274, 0.021169424149516516, 0.02116942414671495, 0.0211694241441714, 0.021169424141862115, 0.021169424139765504, 0.02116942413786198, 0.021169424136133777, 0.021169424134564737, 0.021169424133140203, 0.021169424131846862, 0.021169424130672642, 0.021169424129606554, 0.02116942412863866, 0.021169424127759906, 0.021169424126962082, 0.02116942412623774, 0.021169424125580108, 0.021169424124983037, 0.02116942412444096, 0.02116942412394881, 0.02116942412350198, 0.021169424123096303, 0.02116942412272799, 0.021169424122393598, 0.02116942412209, 0.021169424121814363, 0.021169424121564116, 0.021169424121336915, 0.021169424121130636, 0.021169424120943355, 0.021169424120773325, 0.02116942412061895, 0.0211694241204788, 0.021169424120351558, 0.021169424120236025, 0.02116942412013114, 0.02116942412003591, 0.021169424119949452, 0.02116942411987096, 0.021169424119799697, 0.021169424119734992, 0.021169424119676247, 0.02116942411962292, 0.021169424119574495, 0.021169424119530534, 0.021169424119490618, 0.021169424119454387, 0.021169424119421486, 0.021169424119391617, 0.021169424119364497, 0.021169424119339874, 0.02116942411931752, 0.02116942411929723, 0.0211694241192788, 0.02116942411926207, 0.021169424119246886, 0.02116942411923309, 0.021169424119220577, 0.021169424119209208, 0.021169424119198886, 0.021169424119189522, 0.02116942411918101, 0.021169424119173295, 0.021169424119166284, 0.021169424119159914, 0.021169424119154137, 0.021169424119148888, 0.02116942411914412, 0.021169424119139798, 0.02116942411913587, 0.02116942411913231, 0.021169424119129067, 0.02116942411912613, 0.021169424119123464, 0.02116942411912104, 0.02116942411911884, 0.02116942411911684, 0.02116942411911503, 0.02116942411911338, 0.02116942411911189, 0.021169424119110533, 0.021169424119109298, 0.02116942411910818, 0.021169424119107164, 0.021169424119106252, 0.021169424119105412, 0.021169424119104652, 0.02116942411910396, 0.021169424119103337, 0.02116942411910277, 0.021169424119102248, 0.02116942411910178, 0.021169424119101356, 0.021169424119100964, 0.02116942411910062, 0.021169424119100298, 0.021169424119100007, 0.021169424119099754]\n"
     ]
    }
   ],
   "source": [
    "num_epochs = 100\n",
    "learning_rate = 0.5\n",
    "losses = []\n",
    "for epoch in range(num_epochs):\n",
    "\n",
    "    # forward - predict\n",
    "    y_pred = model.forward(x_train_bias)\n",
    "\n",
    "    #loss cálculo da função de perda\n",
    "    loss = np.square(y_pred - y_train).mean()\n",
    "    losses.append(loss)\n",
    "\n",
    "    # cálculo do gradiente pelas derivadas parciais\n",
    "    w_grad = (2.0/n_samples) * (x_train_bias.T).dot(x_train_bias.dot(model.w.T) - y_train)\n",
    "\n",
    "    # gradiente descendente\n",
    "    model.w = model.w - learning_rate * w_grad.T\n",
    "\n",
    "    # verbose\n",
    "    if (epoch+1) % 1 == 0:\n",
    "        print('Epoch[{}/{}], loss: {:.6f}'\n",
    "              .format(epoch+1, num_epochs, loss))\n",
    "print(losses)"
   ]
  },
  {
   "cell_type": "markdown",
   "metadata": {
    "heading_collapsed": true,
    "id": "1QGlDZABf9Sd"
   },
   "source": [
    "## Avaliação"
   ]
  },
  {
   "cell_type": "markdown",
   "metadata": {
    "hidden": true,
    "id": "6TIimlCmf9Si"
   },
   "source": [
    "### Predict"
   ]
  },
  {
   "cell_type": "code",
   "execution_count": 22,
   "metadata": {
    "ExecuteTime": {
     "end_time": "2017-10-08T11:19:39.408412Z",
     "start_time": "2017-10-08T11:19:39.186021Z"
    },
    "colab": {
     "base_uri": "https://localhost:8080/",
     "height": 447
    },
    "hidden": true,
    "id": "ToXwbrlsf9Sk",
    "outputId": "c9545265-205e-4ebe-cccd-80bee8cfb13e"
   },
   "outputs": [
    {
     "data": {
      "text/plain": [
       "[<matplotlib.lines.Line2D at 0x1d3a413ed20>]"
      ]
     },
     "execution_count": 22,
     "metadata": {},
     "output_type": "execute_result"
    },
    {
     "data": {
      "image/png": "[encoded data removed]",
      "text/plain": [
       "<Figure size 640x480 with 1 Axes>"
      ]
     },
     "metadata": {},
     "output_type": "display_data"
    }
   ],
   "source": [
    "y_pred = model.forward(x_train_bias)\n",
    "plt.plot(x_train, y_train, 'ro', label='Original data')\n",
    "plt.plot(x_train, y_pred, 'kx-', label='Fitting Line')"
   ]
  },
  {
   "cell_type": "markdown",
   "metadata": {
    "hidden": true,
    "id": "kQ1hGdItf9So"
   },
   "source": [
    "### Parâmetros treinados"
   ]
  },
  {
   "cell_type": "code",
   "execution_count": 23,
   "metadata": {
    "ExecuteTime": {
     "end_time": "2017-10-08T11:19:39.417569Z",
     "start_time": "2017-10-08T11:19:39.411060Z"
    },
    "colab": {
     "base_uri": "https://localhost:8080/"
    },
    "hidden": true,
    "id": "IcEOxTg9f9Sp",
    "outputId": "623b1de8-037d-4ab8-a31d-011a9f73e75f"
   },
   "outputs": [
    {
     "name": "stdout",
     "output_type": "stream",
     "text": [
      "[[0.26134169 0.68646956]]\n"
     ]
    }
   ],
   "source": [
    "print(model.w)"
   ]
  },
  {
   "cell_type": "markdown",
   "metadata": {
    "hidden": true,
    "id": "73n0qSOMf9Sr"
   },
   "source": [
    "### Avaliação do modelo"
   ]
  },
  {
   "cell_type": "code",
   "execution_count": 24,
   "metadata": {
    "colab": {
     "base_uri": "https://localhost:8080/"
    },
    "hidden": true,
    "id": "dI2TE8W6f9Ss",
    "outputId": "6150ec9b-3e4f-418e-effa-2529bbb723ba"
   },
   "outputs": [
    {
     "data": {
      "text/plain": [
       "0.021169424119099504"
      ]
     },
     "execution_count": 24,
     "metadata": {},
     "output_type": "execute_result"
    }
   ],
   "source": [
    "loss = np.square(y_pred - y_train).mean()\n",
    "loss"
   ]
  },
  {
   "cell_type": "markdown",
   "metadata": {
    "hidden": true,
    "id": "cv6q3ElSf9Sv"
   },
   "source": [
    "### Valor ótimo, solução analítica"
   ]
  },
  {
   "cell_type": "markdown",
   "metadata": {
    "hidden": true,
    "id": "qYgHOaNmf9Sv"
   },
   "source": [
    "$$  \\mathbf{w} =(\\mathbf{x^T} \\mathbf{x})^{−1}\\mathbf{x^T} \\mathbf{y} $$"
   ]
  },
  {
   "cell_type": "code",
   "execution_count": 25,
   "metadata": {
    "ExecuteTime": {
     "end_time": "2017-10-08T11:19:39.432480Z",
     "start_time": "2017-10-08T11:19:39.420006Z"
    },
    "colab": {
     "base_uri": "https://localhost:8080/"
    },
    "hidden": true,
    "id": "OmrggYvmf9Sw",
    "outputId": "5454b52b-8098-4cfb-bb4c-8529499f3686"
   },
   "outputs": [
    {
     "name": "stdout",
     "output_type": "stream",
     "text": [
      "[[0.26134159 0.68646976]]\n"
     ]
    }
   ],
   "source": [
    "x = x_train_bias\n",
    "y = y_train\n",
    "w_opt = (np.linalg.inv((x.T).dot(x)).dot(x.T)).dot(y)\n",
    "print(w_opt.T)"
   ]
  },
  {
   "cell_type": "markdown",
   "metadata": {
    "heading_collapsed": true,
    "id": "2eMOcW8Ff9Sz"
   },
   "source": [
    "# Exercícios"
   ]
  },
  {
   "cell_type": "markdown",
   "metadata": {
    "hidden": true,
    "id": "tCKeOB1-f9S1"
   },
   "source": [
    "## Questões"
   ]
  },
  {
   "cell_type": "markdown",
   "metadata": {
    "hidden": true,
    "id": "c-KyP13vf9S2"
   },
   "source": [
    "1. Quantos parâmetros são treinados nesse modelo?\n",
    "R.: 2 -> w0 e w1\n",
    "\n",
    "2. Qual é o número de atributos de entrada para a rede?\n",
    "R.: 2 (bias e x)\n",
    "\n",
    "3. Qual é o número de saídas da rede?\n",
    "R.: 1\n",
    "\n",
    "4. Suponha que eu tenha agora 5 mil amostras para fazer a predição. Qual é o shape da matriz de entrada?\n",
    "R.: [5000,2]\n",
    "\n",
    "4.1. Qual é o shape do matriz de saída?\n",
    "R.: [5000,1]"
   ]
  },
  {
   "cell_type": "markdown",
   "metadata": {
    "hidden": true,
    "id": "oaj0t2gpf9S3"
   },
   "source": [
    "## Atividades"
   ]
  },
  {
   "cell_type": "markdown",
   "metadata": {
    "hidden": true,
    "id": "pR_fNYurf9S3"
   },
   "source": [
    "1. Modifique o laço do treinamento via gradiente descendente para guardar em uma lista, o valor da perda no final\n",
    "   de cada época. Após o treinamento, plote o valor da perda em função da época.\n",
    "2. Calcule o valor da perda (MSE) da rede com os parâmetros inicializados, sem serem treinados.\n",
    "3. Coloque os valores dos pesos da solução ótima analítica no modelo da rede e calcule o valor da perda (MSE) e\n",
    "   compare com o valor da perda obtida pelo método da otimização via gradiente descendente."
   ]
  },
  {
   "cell_type": "code",
   "execution_count": 26,
   "metadata": {
    "colab": {
     "base_uri": "https://localhost:8080/"
    },
    "id": "xh_nWUF8HOjh",
    "outputId": "a821fa68-34a6-4fd9-b3a6-5ebb74178dd9"
   },
   "outputs": [
    {
     "name": "stdout",
     "output_type": "stream",
     "text": [
      "Epoch[1/100], loss: 0.021169\n",
      "Epoch[2/100], loss: 0.021169\n",
      "Epoch[3/100], loss: 0.021169\n",
      "Epoch[4/100], loss: 0.021169\n",
      "Epoch[5/100], loss: 0.021169\n",
      "Epoch[6/100], loss: 0.021169\n",
      "Epoch[7/100], loss: 0.021169\n",
      "Epoch[8/100], loss: 0.021169\n",
      "Epoch[9/100], loss: 0.021169\n",
      "Epoch[10/100], loss: 0.021169\n",
      "Epoch[11/100], loss: 0.021169\n",
      "Epoch[12/100], loss: 0.021169\n",
      "Epoch[13/100], loss: 0.021169\n",
      "Epoch[14/100], loss: 0.021169\n",
      "Epoch[15/100], loss: 0.021169\n",
      "Epoch[16/100], loss: 0.021169\n",
      "Epoch[17/100], loss: 0.021169\n",
      "Epoch[18/100], loss: 0.021169\n",
      "Epoch[19/100], loss: 0.021169\n",
      "Epoch[20/100], loss: 0.021169\n",
      "Epoch[21/100], loss: 0.021169\n",
      "Epoch[22/100], loss: 0.021169\n",
      "Epoch[23/100], loss: 0.021169\n",
      "Epoch[24/100], loss: 0.021169\n",
      "Epoch[25/100], loss: 0.021169\n",
      "Epoch[26/100], loss: 0.021169\n",
      "Epoch[27/100], loss: 0.021169\n",
      "Epoch[28/100], loss: 0.021169\n",
      "Epoch[29/100], loss: 0.021169\n",
      "Epoch[30/100], loss: 0.021169\n",
      "Epoch[31/100], loss: 0.021169\n",
      "Epoch[32/100], loss: 0.021169\n",
      "Epoch[33/100], loss: 0.021169\n",
      "Epoch[34/100], loss: 0.021169\n",
      "Epoch[35/100], loss: 0.021169\n",
      "Epoch[36/100], loss: 0.021169\n",
      "Epoch[37/100], loss: 0.021169\n",
      "Epoch[38/100], loss: 0.021169\n",
      "Epoch[39/100], loss: 0.021169\n",
      "Epoch[40/100], loss: 0.021169\n",
      "Epoch[41/100], loss: 0.021169\n",
      "Epoch[42/100], loss: 0.021169\n",
      "Epoch[43/100], loss: 0.021169\n",
      "Epoch[44/100], loss: 0.021169\n",
      "Epoch[45/100], loss: 0.021169\n",
      "Epoch[46/100], loss: 0.021169\n",
      "Epoch[47/100], loss: 0.021169\n",
      "Epoch[48/100], loss: 0.021169\n",
      "Epoch[49/100], loss: 0.021169\n",
      "Epoch[50/100], loss: 0.021169\n",
      "Epoch[51/100], loss: 0.021169\n",
      "Epoch[52/100], loss: 0.021169\n",
      "Epoch[53/100], loss: 0.021169\n",
      "Epoch[54/100], loss: 0.021169\n",
      "Epoch[55/100], loss: 0.021169\n",
      "Epoch[56/100], loss: 0.021169\n",
      "Epoch[57/100], loss: 0.021169\n",
      "Epoch[58/100], loss: 0.021169\n",
      "Epoch[59/100], loss: 0.021169\n",
      "Epoch[60/100], loss: 0.021169\n",
      "Epoch[61/100], loss: 0.021169\n",
      "Epoch[62/100], loss: 0.021169\n",
      "Epoch[63/100], loss: 0.021169\n",
      "Epoch[64/100], loss: 0.021169\n",
      "Epoch[65/100], loss: 0.021169\n",
      "Epoch[66/100], loss: 0.021169\n",
      "Epoch[67/100], loss: 0.021169\n",
      "Epoch[68/100], loss: 0.021169\n",
      "Epoch[69/100], loss: 0.021169\n",
      "Epoch[70/100], loss: 0.021169\n",
      "Epoch[71/100], loss: 0.021169\n",
      "Epoch[72/100], loss: 0.021169\n",
      "Epoch[73/100], loss: 0.021169\n",
      "Epoch[74/100], loss: 0.021169\n",
      "Epoch[75/100], loss: 0.021169\n",
      "Epoch[76/100], loss: 0.021169\n",
      "Epoch[77/100], loss: 0.021169\n",
      "Epoch[78/100], loss: 0.021169\n",
      "Epoch[79/100], loss: 0.021169\n",
      "Epoch[80/100], loss: 0.021169\n",
      "Epoch[81/100], loss: 0.021169\n",
      "Epoch[82/100], loss: 0.021169\n",
      "Epoch[83/100], loss: 0.021169\n",
      "Epoch[84/100], loss: 0.021169\n",
      "Epoch[85/100], loss: 0.021169\n",
      "Epoch[86/100], loss: 0.021169\n",
      "Epoch[87/100], loss: 0.021169\n",
      "Epoch[88/100], loss: 0.021169\n",
      "Epoch[89/100], loss: 0.021169\n",
      "Epoch[90/100], loss: 0.021169\n",
      "Epoch[91/100], loss: 0.021169\n",
      "Epoch[92/100], loss: 0.021169\n",
      "Epoch[93/100], loss: 0.021169\n",
      "Epoch[94/100], loss: 0.021169\n",
      "Epoch[95/100], loss: 0.021169\n",
      "Epoch[96/100], loss: 0.021169\n",
      "Epoch[97/100], loss: 0.021169\n",
      "Epoch[98/100], loss: 0.021169\n",
      "Epoch[99/100], loss: 0.021169\n",
      "Epoch[100/100], loss: 0.021169\n"
     ]
    }
   ],
   "source": [
    "# Exercício 1 - Modifique o laço do treinamento via gradiente descendente para guardar em uma lista, o valor da perda no final de cada época\n",
    "\n",
    "# Seta parametros\n",
    "num_epochs = 100\n",
    "learning_rate = 0.5\n",
    "\n",
    "# lista para armazenar a perda\n",
    "loss_history = []\n",
    "\n",
    "for epoch in range(num_epochs):\n",
    "    # forward - Predict\n",
    "    y_pred = model.forward(x_train_bias)\n",
    "\n",
    "    # loss cálculo da função de perda\n",
    "    loss = np.square(y_pred - y_train).mean()\n",
    "\n",
    "    # armazenar a perda\n",
    "    loss_history.append(loss)\n",
    "\n",
    "    # cálculo do gradiente pelas derivadas parciais\n",
    "    w_grad = (2.0 / n_samples) * (x_train_bias.T).dot(x_train_bias.dot(model.w.T) - y_train)\n",
    "\n",
    "    # gradiente descendente\n",
    "    model.w = model.w - learning_rate * w_grad.T\n",
    "\n",
    "    # verbose\n",
    "    if (epoch + 1) % 1 == 0:\n",
    "        print('Epoch[{}/{}], loss: {:.6f}'.format(epoch + 1, num_epochs, loss))"
   ]
  },
  {
   "cell_type": "code",
   "execution_count": 27,
   "metadata": {
    "colab": {
     "base_uri": "https://localhost:8080/",
     "height": 472
    },
    "id": "Zsg_oRraIFr5",
    "outputId": "c595981d-c410-42e1-c3bc-eaeb962202ea"
   },
   "outputs": [
    {
     "data": {
      "image/png": "[encoded data removed]",
      "text/plain": [
       "<Figure size 640x480 with 1 Axes>"
      ]
     },
     "metadata": {},
     "output_type": "display_data"
    }
   ],
   "source": [
    "# Após o treinamento, plotar o valor da perda em função da época\n",
    "plt.plot(range(1, num_epochs + 1), loss_history, 'b-', marker='x')\n",
    "plt.xlabel('Epoch')\n",
    "plt.ylabel('Loss')\n",
    "plt.title('Loss vs. Epoch')\n",
    "plt.show()"
   ]
  },
  {
   "cell_type": "code",
   "execution_count": 28,
   "metadata": {
    "colab": {
     "base_uri": "https://localhost:8080/"
    },
    "id": "JqA2XBzVQnTR",
    "outputId": "704acd59-a44c-4b50-ab0c-0e7efa22f922"
   },
   "outputs": [
    {
     "name": "stdout",
     "output_type": "stream",
     "text": [
      "Verifica o Model2: [[-0.0270228   0.02307924]]\n",
      "MSE da perda (MSE) da rede com os parâmetros inicializados, sem serem treinados:  0.42623474067847744\n"
     ]
    }
   ],
   "source": [
    "# Exercício 2 -Calcule o valor da perda (MSE) da rede com os parâmetros inicializados, sem serem treinados\n",
    "\n",
    "model2 = Net(2,1)\n",
    "print(\"Verifica o Model2:\", model2.w)\n",
    "\n",
    "y_pred = model2.forward(x_train_bias)\n",
    "loss = np.square(y_pred - y_train).mean()\n",
    "print(\"MSE da perda (MSE) da rede com os parâmetros inicializados, sem serem treinados: \", loss)"
   ]
  },
  {
   "cell_type": "code",
   "execution_count": 29,
   "metadata": {
    "colab": {
     "base_uri": "https://localhost:8080/"
    },
    "id": "oYV-Rh1kQ5Cg",
    "outputId": "0cea664a-580d-4134-afd1-dbd0680db60d"
   },
   "outputs": [
    {
     "name": "stdout",
     "output_type": "stream",
     "text": [
      "Perda ótima: 0.021169424119097165\n",
      "Perda Treinamento:  0.021169424119097165\n"
     ]
    }
   ],
   "source": [
    "# Exercício 3 - Coloque os valores dos pesos da solução ótima analítica no modelo da rede e calcule o valor da perda (MSE) e compare com o valor da perda obtida pelo método da otimização via gradiente descendente.\n",
    "\n",
    "model3 = Net(2,1)\n",
    "\n",
    "x = x_train_bias\n",
    "y = y_train\n",
    "w_opt = (np.linalg.inv((x.T).dot(x)).dot(x.T)).dot(y)\n",
    "w_opt = (np.linalg.inv((x.T).dot(x)).dot(x.T)).dot(y)\n",
    "model3.w = w_opt.T\n",
    "\n",
    "y_pred_otimo = model3.forward(x_train_bias)\n",
    "loss_otima = np.square(y_pred_otimo - y_train).mean()\n",
    "print(\"Perda ótima:\", loss_otima)\n",
    "\n",
    "y_pred_treinamento = model.forward(x_train_bias)\n",
    "loss_treinamento = np.square(y_pred_treinamento - y_train).mean()\n",
    "print(\"Perda Treinamento: \", loss_treinamento)"
   ]
  },
  {
   "cell_type": "markdown",
   "metadata": {
    "collapsed": true,
    "id": "tgmMhSm2f9S4"
   },
   "source": [
    "# Aprendizados"
   ]
  }
 ],
 "metadata": {
  "accelerator": "TPU",
  "colab": {
   "gpuType": "V28",
   "include_colab_link": true,
   "provenance": []
  },
  "kernelspec": {
   "display_name": "Python 3",
   "language": "python",
   "name": "python3"
  },
  "language_info": {
   "codemirror_mode": {
    "name": "ipython",
    "version": 3
   },
   "file_extension": ".py",
   "mimetype": "text/x-python",
   "name": "python",
   "nbconvert_exporter": "python",
   "pygments_lexer": "ipython3",
   "version": "3.12.0"
  }
 },
 "nbformat": 4,
 "nbformat_minor": 0
}
